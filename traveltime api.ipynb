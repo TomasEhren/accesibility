{
 "cells": [
  {
   "cell_type": "code",
   "execution_count": 43,
   "id": "4d65b2fb",
   "metadata": {},
   "outputs": [],
   "source": [
    "import requests\n",
    "import numpy as np\n",
    "import pandas as pd\n",
    "from requests_throttler import BaseThrottler\n",
    "from shapely.geometry import Point, LineString, Polygon, MultiPolygon\n",
    "import geopandas as gpd\n",
    "import datetime\n",
    "\n",
    "import logging, sys\n",
    "logging.disable(sys.maxsize)\n",
    "import warnings\n",
    "warnings.filterwarnings(\"ignore\", category=DeprecationWarning)"
   ]
  },
  {
   "cell_type": "code",
   "execution_count": 2,
   "id": "0f1cb970",
   "metadata": {},
   "outputs": [],
   "source": [
    "def get_poly(r):\n",
    "    try:\n",
    "        shapes = r['results'][0]['shapes']\n",
    "        polys = []\n",
    "        for shape in shapes:\n",
    "            polys.append(Polygon(LineString([Point(p['lng'], p['lat']) for p in shape['shell']])))\n",
    "        return MultiPolygon(polys)\n",
    "    except:\n",
    "        return Polygon()"
   ]
  },
  {
   "cell_type": "code",
   "execution_count": 51,
   "id": "6ea5d159",
   "metadata": {},
   "outputs": [],
   "source": [
    "app_id = '02974100'\n",
    "key = 'ad6a6e483dfb044ec41c2ca39e5e681e'\n",
    "\n",
    "endpoint = 'https://api.traveltimeapp.com/v4/time-map?'\n",
    "params = 'type={_type}&travel_time={time}&lat={lat}&lng={lng}&departure_time={departure}&app_id={app_id}&api_key={key}'\n",
    "lng, lat = -0.380, 39.468\n",
    "_min, _max, step = 1, 120, 1\n",
    "departure = '2023-06-15T12:00:00Z'"
   ]
  },
  {
   "cell_type": "code",
   "execution_count": 68,
   "id": "6e6a3d68",
   "metadata": {},
   "outputs": [
    {
     "data": {
      "text/plain": [
       "'https://api.traveltimeapp.com/v4/time-map?type=public_transport&travel_time=60&lat=39.468&lng=-0.38&departure_time=2023-06-15T12:00:00Z&app_id=02974100&api_key=ad6a6e483dfb044ec41c2ca39e5e681e'"
      ]
     },
     "execution_count": 68,
     "metadata": {},
     "output_type": "execute_result"
    }
   ],
   "source": [
    "urls[0]"
   ]
  },
  {
   "cell_type": "code",
   "execution_count": 52,
   "id": "5bb4a9ec",
   "metadata": {},
   "outputs": [
    {
     "name": "stdout",
     "output_type": "stream",
     "text": [
      "Requests for cycling.\n",
      "Requests for driving.\n",
      "Requests for public_transport.\n"
     ]
    }
   ],
   "source": [
    "data = []\n",
    "for mode in ['cycling', 'driving', 'public_transport']:\n",
    "    print(f'Requests for {mode}.')\n",
    "    urls = [\n",
    "        endpoint+params.format(\n",
    "            _type=mode,\n",
    "            time=time,\n",
    "            lat=lat,\n",
    "            lng=lng,\n",
    "            departure=departure,\n",
    "            app_id=app_id,\n",
    "            key=key\n",
    "        ) for time in range(60 * _min, 60*_max, 60*step)\n",
    "    ]\n",
    "    \n",
    "    with BaseThrottler(name='base-throttler', reqs_over_time=(10, 60)) as bt:\n",
    "        reqs = [requests.Request(method='GET', url=url) for url in urls]\n",
    "        throttled_requests = bt.multi_submit(reqs)\n",
    "        \n",
    "    for i, r in enumerate([tr.response for tr in throttled_requests]):\n",
    "        if r.status_code == 200:\n",
    "            _json = r.json()\n",
    "            data.append({\n",
    "                'mode': mode,\n",
    "                '_range': (i+1 * step) * 60,\n",
    "                'response': r,\n",
    "                'geom': get_poly(r.json()),\n",
    "                'error': np.nan\n",
    "            })\n",
    "        else:\n",
    "            data.append({\n",
    "                'status_code': r.status_code,\n",
    "                'reason': r.reason\n",
    "            })"
   ]
  },
  {
   "cell_type": "code",
   "execution_count": 64,
   "id": "49749974",
   "metadata": {},
   "outputs": [
    {
     "name": "stderr",
     "output_type": "stream",
     "text": [
      "/Users/tomasehrenfeld/miniconda3/lib/python3.9/site-packages/pandas/core/dtypes/inference.py:383: ShapelyDeprecationWarning: Iteration over multi-part geometries is deprecated and will be removed in Shapely 2.0. Use the `geoms` property to access the constituent parts of a multi-part geometry.\n",
      "  iter(obj)  # Can iterate over it.\n",
      "/Users/tomasehrenfeld/miniconda3/lib/python3.9/site-packages/pandas/core/dtypes/inference.py:384: ShapelyDeprecationWarning: __len__ for multi-part geometries is deprecated and will be removed in Shapely 2.0. Check the length of the `geoms` property instead to get the  number of parts of a multi-part geometry.\n",
      "  len(obj)  # Has a length associated with it.\n",
      "/Users/tomasehrenfeld/miniconda3/lib/python3.9/site-packages/pandas/io/formats/printing.py:117: ShapelyDeprecationWarning: Iteration over multi-part geometries is deprecated and will be removed in Shapely 2.0. Use the `geoms` property to access the constituent parts of a multi-part geometry.\n",
      "  s = iter(seq)\n",
      "/Users/tomasehrenfeld/miniconda3/lib/python3.9/site-packages/pandas/io/formats/printing.py:121: ShapelyDeprecationWarning: __len__ for multi-part geometries is deprecated and will be removed in Shapely 2.0. Check the length of the `geoms` property instead to get the  number of parts of a multi-part geometry.\n",
      "  for i in range(min(nitems, len(seq)))\n",
      "/Users/tomasehrenfeld/miniconda3/lib/python3.9/site-packages/pandas/io/formats/printing.py:125: ShapelyDeprecationWarning: __len__ for multi-part geometries is deprecated and will be removed in Shapely 2.0. Check the length of the `geoms` property instead to get the  number of parts of a multi-part geometry.\n",
      "  if nitems < len(seq):\n",
      "/Users/tomasehrenfeld/miniconda3/lib/python3.9/site-packages/pandas/core/dtypes/inference.py:383: ShapelyDeprecationWarning: Iteration over multi-part geometries is deprecated and will be removed in Shapely 2.0. Use the `geoms` property to access the constituent parts of a multi-part geometry.\n",
      "  iter(obj)  # Can iterate over it.\n",
      "/Users/tomasehrenfeld/miniconda3/lib/python3.9/site-packages/pandas/core/dtypes/inference.py:384: ShapelyDeprecationWarning: __len__ for multi-part geometries is deprecated and will be removed in Shapely 2.0. Check the length of the `geoms` property instead to get the  number of parts of a multi-part geometry.\n",
      "  len(obj)  # Has a length associated with it.\n",
      "/Users/tomasehrenfeld/miniconda3/lib/python3.9/site-packages/pandas/io/formats/printing.py:117: ShapelyDeprecationWarning: Iteration over multi-part geometries is deprecated and will be removed in Shapely 2.0. Use the `geoms` property to access the constituent parts of a multi-part geometry.\n",
      "  s = iter(seq)\n",
      "/Users/tomasehrenfeld/miniconda3/lib/python3.9/site-packages/pandas/io/formats/printing.py:121: ShapelyDeprecationWarning: __len__ for multi-part geometries is deprecated and will be removed in Shapely 2.0. Check the length of the `geoms` property instead to get the  number of parts of a multi-part geometry.\n",
      "  for i in range(min(nitems, len(seq)))\n",
      "/Users/tomasehrenfeld/miniconda3/lib/python3.9/site-packages/pandas/io/formats/printing.py:125: ShapelyDeprecationWarning: __len__ for multi-part geometries is deprecated and will be removed in Shapely 2.0. Check the length of the `geoms` property instead to get the  number of parts of a multi-part geometry.\n",
      "  if nitems < len(seq):\n"
     ]
    },
    {
     "data": {
      "text/html": [
       "<div>\n",
       "<style scoped>\n",
       "    .dataframe tbody tr th:only-of-type {\n",
       "        vertical-align: middle;\n",
       "    }\n",
       "\n",
       "    .dataframe tbody tr th {\n",
       "        vertical-align: top;\n",
       "    }\n",
       "\n",
       "    .dataframe thead th {\n",
       "        text-align: right;\n",
       "    }\n",
       "</style>\n",
       "<table border=\"1\" class=\"dataframe\">\n",
       "  <thead>\n",
       "    <tr style=\"text-align: right;\">\n",
       "      <th></th>\n",
       "      <th>mode</th>\n",
       "      <th>_range</th>\n",
       "      <th>response</th>\n",
       "      <th>geom</th>\n",
       "      <th>error</th>\n",
       "      <th>geometry</th>\n",
       "    </tr>\n",
       "  </thead>\n",
       "  <tbody>\n",
       "    <tr>\n",
       "      <th>238</th>\n",
       "      <td>public_transport</td>\n",
       "      <td>60</td>\n",
       "      <td>&lt;Response [200]&gt;</td>\n",
       "      <td>()</td>\n",
       "      <td>NaN</td>\n",
       "      <td>GEOMETRYCOLLECTION EMPTY</td>\n",
       "    </tr>\n",
       "  </tbody>\n",
       "</table>\n",
       "</div>"
      ],
      "text/plain": [
       "                 mode  _range          response geom  error  \\\n",
       "238  public_transport      60  <Response [200]>   ()    NaN   \n",
       "\n",
       "                     geometry  \n",
       "238  GEOMETRYCOLLECTION EMPTY  "
      ]
     },
     "execution_count": 64,
     "metadata": {},
     "output_type": "execute_result"
    }
   ],
   "source": [
    "df = pd.DataFrame(data)\n",
    "gdf = gpd.GeoDataFrame(df, geometry=df.geom)\n",
    "gdf[gdf.is_empty]"
   ]
  },
  {
   "cell_type": "code",
   "execution_count": 65,
   "id": "b21378fe",
   "metadata": {},
   "outputs": [
    {
     "name": "stderr",
     "output_type": "stream",
     "text": [
      "/Users/tomasehrenfeld/miniconda3/lib/python3.9/site-packages/pandas/core/dtypes/inference.py:383: ShapelyDeprecationWarning: Iteration over multi-part geometries is deprecated and will be removed in Shapely 2.0. Use the `geoms` property to access the constituent parts of a multi-part geometry.\n",
      "  iter(obj)  # Can iterate over it.\n",
      "/Users/tomasehrenfeld/miniconda3/lib/python3.9/site-packages/pandas/core/dtypes/inference.py:384: ShapelyDeprecationWarning: __len__ for multi-part geometries is deprecated and will be removed in Shapely 2.0. Check the length of the `geoms` property instead to get the  number of parts of a multi-part geometry.\n",
      "  len(obj)  # Has a length associated with it.\n",
      "/Users/tomasehrenfeld/miniconda3/lib/python3.9/site-packages/pandas/io/formats/printing.py:117: ShapelyDeprecationWarning: Iteration over multi-part geometries is deprecated and will be removed in Shapely 2.0. Use the `geoms` property to access the constituent parts of a multi-part geometry.\n",
      "  s = iter(seq)\n",
      "/Users/tomasehrenfeld/miniconda3/lib/python3.9/site-packages/pandas/io/formats/printing.py:121: ShapelyDeprecationWarning: __len__ for multi-part geometries is deprecated and will be removed in Shapely 2.0. Check the length of the `geoms` property instead to get the  number of parts of a multi-part geometry.\n",
      "  for i in range(min(nitems, len(seq)))\n",
      "/Users/tomasehrenfeld/miniconda3/lib/python3.9/site-packages/pandas/io/formats/printing.py:125: ShapelyDeprecationWarning: __len__ for multi-part geometries is deprecated and will be removed in Shapely 2.0. Check the length of the `geoms` property instead to get the  number of parts of a multi-part geometry.\n",
      "  if nitems < len(seq):\n",
      "/Users/tomasehrenfeld/miniconda3/lib/python3.9/site-packages/pandas/core/dtypes/inference.py:383: ShapelyDeprecationWarning: Iteration over multi-part geometries is deprecated and will be removed in Shapely 2.0. Use the `geoms` property to access the constituent parts of a multi-part geometry.\n",
      "  iter(obj)  # Can iterate over it.\n",
      "/Users/tomasehrenfeld/miniconda3/lib/python3.9/site-packages/pandas/core/dtypes/inference.py:384: ShapelyDeprecationWarning: __len__ for multi-part geometries is deprecated and will be removed in Shapely 2.0. Check the length of the `geoms` property instead to get the  number of parts of a multi-part geometry.\n",
      "  len(obj)  # Has a length associated with it.\n",
      "/Users/tomasehrenfeld/miniconda3/lib/python3.9/site-packages/pandas/io/formats/printing.py:117: ShapelyDeprecationWarning: Iteration over multi-part geometries is deprecated and will be removed in Shapely 2.0. Use the `geoms` property to access the constituent parts of a multi-part geometry.\n",
      "  s = iter(seq)\n",
      "/Users/tomasehrenfeld/miniconda3/lib/python3.9/site-packages/pandas/io/formats/printing.py:121: ShapelyDeprecationWarning: __len__ for multi-part geometries is deprecated and will be removed in Shapely 2.0. Check the length of the `geoms` property instead to get the  number of parts of a multi-part geometry.\n",
      "  for i in range(min(nitems, len(seq)))\n",
      "/Users/tomasehrenfeld/miniconda3/lib/python3.9/site-packages/pandas/io/formats/printing.py:125: ShapelyDeprecationWarning: __len__ for multi-part geometries is deprecated and will be removed in Shapely 2.0. Check the length of the `geoms` property instead to get the  number of parts of a multi-part geometry.\n",
      "  if nitems < len(seq):\n"
     ]
    },
    {
     "data": {
      "text/html": [
       "<div>\n",
       "<style scoped>\n",
       "    .dataframe tbody tr th:only-of-type {\n",
       "        vertical-align: middle;\n",
       "    }\n",
       "\n",
       "    .dataframe tbody tr th {\n",
       "        vertical-align: top;\n",
       "    }\n",
       "\n",
       "    .dataframe thead th {\n",
       "        text-align: right;\n",
       "    }\n",
       "</style>\n",
       "<table border=\"1\" class=\"dataframe\">\n",
       "  <thead>\n",
       "    <tr style=\"text-align: right;\">\n",
       "      <th></th>\n",
       "      <th>mode</th>\n",
       "      <th>_range</th>\n",
       "      <th>geom</th>\n",
       "      <th>error</th>\n",
       "    </tr>\n",
       "  </thead>\n",
       "  <tbody>\n",
       "    <tr>\n",
       "      <th>0</th>\n",
       "      <td>cycling</td>\n",
       "      <td>60</td>\n",
       "      <td>(POLYGON ((-0.38115385 39.46835, -0.38115385 3...</td>\n",
       "      <td>NaN</td>\n",
       "    </tr>\n",
       "    <tr>\n",
       "      <th>1</th>\n",
       "      <td>cycling</td>\n",
       "      <td>120</td>\n",
       "      <td>(POLYGON ((-0.38346782 39.47016, -0.38346782 3...</td>\n",
       "      <td>NaN</td>\n",
       "    </tr>\n",
       "    <tr>\n",
       "      <th>2</th>\n",
       "      <td>cycling</td>\n",
       "      <td>180</td>\n",
       "      <td>(POLYGON ((-0.38171098 39.465225, -0.38054898 ...</td>\n",
       "      <td>NaN</td>\n",
       "    </tr>\n",
       "    <tr>\n",
       "      <th>3</th>\n",
       "      <td>cycling</td>\n",
       "      <td>240</td>\n",
       "      <td>(POLYGON ((-0.38925204 39.469296, -0.38867107 ...</td>\n",
       "      <td>NaN</td>\n",
       "    </tr>\n",
       "    <tr>\n",
       "      <th>4</th>\n",
       "      <td>cycling</td>\n",
       "      <td>300</td>\n",
       "      <td>(POLYGON ((-0.3904037 39.471107, -0.3904037 39...</td>\n",
       "      <td>NaN</td>\n",
       "    </tr>\n",
       "  </tbody>\n",
       "</table>\n",
       "</div>"
      ],
      "text/plain": [
       "      mode  _range                                               geom  error\n",
       "0  cycling      60  (POLYGON ((-0.38115385 39.46835, -0.38115385 3...    NaN\n",
       "1  cycling     120  (POLYGON ((-0.38346782 39.47016, -0.38346782 3...    NaN\n",
       "2  cycling     180  (POLYGON ((-0.38171098 39.465225, -0.38054898 ...    NaN\n",
       "3  cycling     240  (POLYGON ((-0.38925204 39.469296, -0.38867107 ...    NaN\n",
       "4  cycling     300  (POLYGON ((-0.3904037 39.471107, -0.3904037 39...    NaN"
      ]
     },
     "execution_count": 65,
     "metadata": {},
     "output_type": "execute_result"
    }
   ],
   "source": [
    "df = pd.DataFrame(data)\n",
    "df = df.drop(columns=['response'])\n",
    "df.head()"
   ]
  },
  {
   "cell_type": "code",
   "execution_count": 66,
   "id": "484d47d1",
   "metadata": {},
   "outputs": [
    {
     "name": "stderr",
     "output_type": "stream",
     "text": [
      "1it [00:29, 29.55s/it]\n"
     ]
    }
   ],
   "source": [
    "df.to_gbq(\n",
    "    destination_table='accesibility.isolines',\n",
    "    project_id='cartodb-gcp-solutions-eng-team',\n",
    "    if_exists='replace',\n",
    "    table_schema=[{'name': 'geom', 'type': 'GEOGRAPHY'}]\n",
    ")"
   ]
  },
  {
   "cell_type": "code",
   "execution_count": null,
   "id": "aac30d76",
   "metadata": {},
   "outputs": [],
   "source": []
  },
  {
   "cell_type": "code",
   "execution_count": 35,
   "id": "988f725c",
   "metadata": {},
   "outputs": [
    {
     "data": {
      "image/svg+xml": [
       "<svg xmlns=\"http://www.w3.org/2000/svg\" xmlns:xlink=\"http://www.w3.org/1999/xlink\" width=\"100.0\" height=\"100.0\" viewBox=\"-1.1840309312 38.9367878688 1.1289275423999998 1.0600682623999944\" preserveAspectRatio=\"xMinYMin meet\"><g transform=\"matrix(1,0,0,-1,0,78.933644)\"><g><path fill-rule=\"evenodd\" fill=\"#ff3333\" stroke=\"#555555\" stroke-width=\"0.022578550847999996\" opacity=\"0.6\" d=\"M -0.42919737,39.736156 L -0.42919737,39.737957 L -0.4303511,39.738857 L -0.43265864,39.738857 L -0.43496615,39.737057 L -0.43727365,39.737057 L -0.43842742,39.736156 L -0.43842742,39.734352 L -0.43727365,39.73345 L -0.43496615,39.73345 L -0.43265864,39.735256 L -0.4303511,39.735256 L -0.42919737,39.736156 z\" /><path fill-rule=\"evenodd\" fill=\"#ff3333\" stroke=\"#555555\" stroke-width=\"0.022578550847999996\" opacity=\"0.6\" d=\"M -0.5122678,39.86767 L -0.51457536,39.865868 L -0.51457536,39.864067 L -0.51688284,39.862267 L -0.5134216,39.859562 L -0.5122678,39.860462 L -0.5122678,39.864067 L -0.51111406,39.864967 L -0.50649905,39.864967 L -0.5053453,39.865868 L -0.5076528,39.86767 L -0.5076528,39.869473 L -0.5088065,39.870373 L -0.51111406,39.870373 L -0.5122678,39.869473 L -0.5122678,39.86767 z\" /><path fill-rule=\"evenodd\" fill=\"#ff3333\" stroke=\"#555555\" stroke-width=\"0.022578550847999996\" opacity=\"0.6\" d=\"M -1.122605,39.51186 L -1.1145287,39.518166 L -1.1145287,39.52177 L -1.1156824,39.52267 L -1.1179899,39.52087 L -1.1202974,39.52267 L -1.1214513,39.52177 L -1.1191437,39.519966 L -1.1191437,39.518166 L -1.1202974,39.517265 L -1.122605,39.517265 L -1.1249125,39.519066 L -1.1260662,39.518166 L -1.1237587,39.516365 L -1.1249125,39.515465 L -1.131835,39.515465 L -1.1341425,39.517265 L -1.1352962,39.516365 L -1.1329888,39.514565 L -1.1329888,39.51276 L -1.1306813,39.51096 L -1.1341425,39.50826 L -1.13645,39.50826 L -1.141065,39.51186 L -1.1422188,39.51096 L -1.141065,39.51006 L -1.13645,39.506454 L -1.1341425,39.506454 L -1.131835,39.504654 L -1.1295274,39.504654 L -1.1283737,39.505554 L -1.1283737,39.50916 L -1.1249125,39.51186 L -1.122605,39.51186 z\" /><path fill-rule=\"evenodd\" fill=\"#ff3333\" stroke=\"#555555\" stroke-width=\"0.022578550847999996\" opacity=\"0.6\" d=\"M -1.0741472,39.50826 L -1.0718397,39.50826 L -1.0695322,39.51006 L -1.0626097,39.51006 L -1.0545334,39.516365 L -1.0545334,39.518166 L -1.0499183,39.52177 L -1.0510721,39.52267 L -1.0568409,39.518166 L -1.0568409,39.516365 L -1.0603021,39.513664 L -1.0741472,39.513664 L -1.0764548,39.51186 L -1.0879923,39.51186 L -1.0926073,39.515465 L -1.0937611,39.514565 L -1.0937611,39.51276 L -1.0960685,39.51096 L -1.0960685,39.50736 L -1.098376,39.505554 L -1.098376,39.503754 L -1.0960685,39.501953 L -1.0960685,39.49835 L -1.0972223,39.497448 L -1.0995299,39.49925 L -1.1006836,39.49835 L -1.1006836,39.494747 L -1.1029911,39.492943 L -1.1029911,39.491142 L -1.1018374,39.490242 L -1.0995299,39.48844 L -1.0949148,39.48844 L -1.089146,39.492943 L -1.089146,39.50015 L -1.0879923,39.501053 L -1.0856848,39.501053 L -1.0810697,39.504654 L -1.0787622,39.504654 L -1.0741472,39.50826 z\" /><path fill-rule=\"evenodd\" fill=\"#ff3333\" stroke=\"#555555\" stroke-width=\"0.022578550847999996\" opacity=\"0.6\" d=\"M -1.0718397,39.47943 L -1.0603021,39.47943 L -1.0579946,39.47763 L -1.0556871,39.47763 L -1.0533795,39.47583 L -1.0441495,39.47583 L -1.0429958,39.47493 L -1.0429958,39.473125 L -1.037227,39.468624 L -1.0349195,39.468624 L -1.0337657,39.469524 L -1.0360732,39.471325 L -1.032612,39.47403 L -1.0303044,39.47403 L -1.0291507,39.473125 L -1.0291507,39.471325 L -1.0279969,39.470425 L -1.023382,39.470425 L -1.0141518,39.46322 L -1.0072293,39.46322 L -1.0049218,39.46502 L -0.98876923,39.46502 L -0.98761547,39.46592 L -0.9910767,39.468624 L -0.99338424,39.468624 L -0.99799925,39.472225 L -1.0026143,39.472225 L -1.0060756,39.47493 L -1.0060756,39.480335 L -1.0072293,39.481236 L -1.0141518,39.481236 L -1.0164593,39.47943 L -1.0256894,39.47943 L -1.0279969,39.481236 L -1.0349195,39.481236 L -1.037227,39.483036 L -1.0533795,39.483036 L -1.0568409,39.485737 L -1.0568409,39.48754 L -1.0603021,39.490242 L -1.0649171,39.490242 L -1.0672246,39.48844 L -1.0718397,39.48844 L -1.0741472,39.486637 L -1.0764548,39.486637 L -1.0810697,39.490242 L -1.0833772,39.490242 L -1.0856848,39.48844 L -1.0879923,39.48844 L -1.0926073,39.484837 L -1.0949148,39.484837 L -1.0960685,39.483936 L -1.0949148,39.483036 L -1.0926073,39.483036 L -1.0856848,39.483036 L -1.084531,39.482136 L -1.084531,39.480335 L -1.0833772,39.47943 L -1.0787622,39.47943 L -1.0764548,39.481236 L -1.0741472,39.481236 L -1.0718397,39.47943 z\" /><path fill-rule=\"evenodd\" fill=\"#ff3333\" stroke=\"#555555\" stroke-width=\"0.022578550847999996\" opacity=\"0.6\" d=\"M -0.947234,39.447006 L -0.94377273,39.4443 L -0.94377273,39.4407 L -0.9368502,39.435295 L -0.9356964,39.434692 L -0.9333889,39.434692 L -0.9310814,39.434395 L -0.9287739,39.436195 L -0.9195438,39.436195 L -0.9183901,39.435295 L -0.9183901,39.433495 L -0.9172363,39.43259 L -0.9149288,39.43259 L -0.913775,39.43169 L -0.9126213,39.43109 L -0.9103138,39.43079 L -0.90800625,39.43109 L -0.9068525,39.43169 L -0.9056988,39.43259 L -0.90339124,39.43259 L -0.9010837,39.434395 L -0.90031457,39.435295 L -0.90031457,39.437096 L -0.89993,39.438896 L -0.89993,39.4407 L -0.8964687,39.4434 L -0.89416116,39.4434 L -0.8918537,39.443703 L -0.8872387,39.443703 L -0.8860849,39.4443 L -0.88493115,39.4452 L -0.88031614,39.4452 L -0.8791624,39.4443 L -0.8780086,39.443703 L -0.87570107,39.4434 L -0.8745473,39.4425 L -0.8733936,39.4419 L -0.87108606,39.4419 L -0.8687785,39.4416 L -0.86647105,39.4416 L -0.8653173,39.4407 L -0.8653173,39.438896 L -0.8649327,39.437096 L -0.8649327,39.433495 L -0.861856,39.43109 L -0.857241,39.43109 L -0.8549335,39.42929 L -0.85262597,39.42899 L -0.85031843,39.43079 L -0.84801096,39.43079 L -0.8457034,39.42899 L -0.8433959,39.43079 L -0.8422422,39.42989 L -0.8422422,39.42809 L -0.84454966,39.426285 L -0.8441651,39.424484 L -0.8410884,39.422085 L -0.83647335,39.422085 L -0.8341659,39.42028 L -0.83185834,39.42028 L -0.82955086,39.422085 L -0.8272433,39.421783 L -0.8203208,39.42719 L -0.80878323,39.42719 L -0.80532193,39.424484 L -0.80532193,39.422684 L -0.8064757,39.421783 L -0.80878323,39.423584 L -0.8110907,39.423584 L -0.81339824,39.425385 L -0.81801325,39.425385 L -0.819167,39.424484 L -0.819167,39.41908 L -0.8168595,39.41728 L -0.8168595,39.411873 L -0.8203208,39.409172 L -0.8226283,39.409172 L -0.823782,39.40827 L -0.823782,39.40647 L -0.8249358,39.405567 L -0.83185834,39.405567 L -0.8341659,39.403767 L -0.83647335,39.403767 L -0.8387809,39.401966 L -0.8457034,39.401966 L -0.84801096,39.403767 L -0.85262597,39.403767 L -0.85839474,39.39926 L -0.857241,39.39836 L -0.8549335,39.39836 L -0.85262597,39.400166 L -0.84801096,39.400166 L -0.8433959,39.39656 L -0.8410884,39.39836 L -0.8387809,39.39836 L -0.83647335,39.400166 L -0.82955086,39.400166 L -0.8272433,39.39836 L -0.8249358,39.39836 L -0.8226283,39.39656 L -0.81801325,39.39656 L -0.8157058,39.39836 L -0.81339824,39.39836 L -0.8110907,39.400166 L -0.80878323,39.400166 L -0.80762947,39.39926 L -0.809937,39.39746 L -0.80878323,39.39656 L -0.80416816,39.400166 L -0.8018607,39.400166 L -0.8007069,39.401066 L -0.8007069,39.402866 L -0.80301446,39.404667 L -0.8018607,39.405567 L -0.7972457,39.405567 L -0.79493815,39.40737 L -0.7937844,39.40647 L -0.7937844,39.39746 L -0.79493815,39.39656 L -0.7972457,39.39656 L -0.7983994,39.39566 L -0.7983994,39.39386 L -0.79955316,39.39296 L -0.8018607,39.39296 L -0.80301446,39.39386 L -0.8007069,39.39566 L -0.8018607,39.39656 L -0.80416816,39.39656 L -0.80532193,39.39566 L -0.80532193,39.39386 L -0.8064757,39.39296 L -0.80878323,39.39296 L -0.809937,39.392056 L -0.80762947,39.390255 L -0.80762947,39.388454 L -0.809937,39.386654 L -0.809937,39.38485 L -0.80878323,39.38395 L -0.80416816,39.38395 L -0.8018607,39.38215 L -0.79955316,39.38215 L -0.7972457,39.38395 L -0.7937844,39.38125 L -0.7960919,39.379444 L -0.7937844,39.377644 L -0.7983994,39.374043 L -0.7983994,39.37224 L -0.79955316,39.371338 L -0.8018607,39.371338 L -0.80301446,39.37224 L -0.80301446,39.377644 L -0.80416816,39.378544 L -0.8064757,39.378544 L -0.80762947,39.377644 L -0.80762947,39.370438 L -0.8064757,39.369537 L -0.80416816,39.369537 L -0.8018607,39.367737 L -0.79955316,39.367737 L -0.7983994,39.366837 L -0.7983994,39.365032 L -0.7960919,39.36323 L -0.7960919,39.35963 L -0.79955316,39.356926 L -0.8018607,39.356926 L -0.80301446,39.356026 L -0.80301446,39.354225 L -0.80532193,39.35242 L -0.80416816,39.35152 L -0.8018607,39.35152 L -0.7972457,39.355125 L -0.79493815,39.355125 L -0.7937844,39.356026 L -0.7937844,39.357826 L -0.7926306,39.358727 L -0.79032314,39.358727 L -0.7891694,39.35963 L -0.7891694,39.36143 L -0.79147685,39.36323 L -0.79147685,39.365032 L -0.7891694,39.366837 L -0.7891694,39.370438 L -0.78109306,39.376743 L -0.7787855,39.376743 L -0.7753243,39.379444 L -0.7753243,39.38485 L -0.7741705,39.38575 L -0.767248,39.38575 L -0.76263297,39.389355 L -0.75917166,39.386654 L -0.75917166,39.38485 L -0.75801796,39.38395 L -0.7557104,39.38395 L -0.7522492,39.38125 L -0.7522492,39.379444 L -0.75455666,39.377644 L -0.75455666,39.374043 L -0.7510954,39.371338 L -0.7441729,39.371338 L -0.74186534,39.373142 L -0.73955786,39.373142 L -0.733789,39.368637 L -0.733789,39.366837 L -0.7349428,39.365932 L -0.74186534,39.365932 L -0.7476341,39.36143 L -0.74186534,39.356926 L -0.73955786,39.356926 L -0.7372503,39.355125 L -0.7326353,39.355125 L -0.73148155,39.354225 L -0.73148155,39.35242 L -0.73609656,39.34882 L -0.73609656,39.341614 L -0.7349428,39.340714 L -0.7303278,39.340714 L -0.729174,39.341614 L -0.729174,39.345215 L -0.7257128,39.34792 L -0.72340524,39.34792 L -0.7210977,39.34612 L -0.71879023,39.34792 L -0.71417516,39.344315 L -0.7118677,39.34612 L -0.7060989,39.341614 L -0.7060989,39.339813 L -0.70148385,39.33621 L -0.70148385,39.334408 L -0.70033014,39.333508 L -0.6980226,39.333508 L -0.69686884,39.332607 L -0.69686884,39.329002 L -0.69571507,39.328102 L -0.6899463,39.332607 L -0.69110006,39.333508 L -0.6934076,39.333508 L -0.69456136,39.334408 L -0.69456136,39.33621 L -0.69686884,39.33801 L -0.69686884,39.339813 L -0.6991764,39.341614 L -0.6991764,39.343414 L -0.6980226,39.344315 L -0.69571507,39.344315 L -0.69456136,39.343414 L -0.69456136,39.341614 L -0.6922538,39.339813 L -0.6922538,39.33621 L -0.69110006,39.335308 L -0.6899463,39.33621 L -0.6899463,39.345215 L -0.6887925,39.34612 L -0.68648505,39.34612 L -0.6853313,39.34702 L -0.6853313,39.35062 L -0.68648505,39.35152 L -0.6887925,39.34972 L -0.70494515,39.34972 L -0.7060989,39.35062 L -0.7026376,39.353325 L -0.69571507,39.353325 L -0.6934076,39.35152 L -0.6922538,39.35242 L -0.6922538,39.354225 L -0.6887925,39.356926 L -0.677255,39.356926 L -0.6749475,39.355125 L -0.67263997,39.355125 L -0.67033243,39.353325 L -0.6657174,39.356926 L -0.6611024,39.356926 L -0.6587949,39.358727 L -0.6541799,39.358727 L -0.64956486,39.355125 L -0.6472573,39.355125 L -0.6449498,39.353325 L -0.6403348,39.353325 L -0.639181,39.35242 L -0.639181,39.34882 L -0.64148855,39.34702 L -0.6403348,39.34612 L -0.63341224,39.34612 L -0.6311047,39.344315 L -0.62764347,39.34702 L -0.6322585,39.35062 L -0.6322585,39.35242 L -0.63341224,39.353325 L -0.6357198,39.353325 L -0.64148855,39.357826 L -0.64148855,39.35963 L -0.63802725,39.36233 L -0.62879723,39.36233 L -0.6264897,39.364132 L -0.6218747,39.364132 L -0.6207209,39.365032 L -0.6207209,39.366837 L -0.61956716,39.367737 L -0.6172597,39.367737 L -0.61495215,39.365932 L -0.60572207,39.365932 L -0.60456836,39.366837 L -0.60572207,39.367737 L -0.61033714,39.367737 L -0.61149085,39.368637 L -0.61149085,39.37224 L -0.6137984,39.374043 L -0.6137984,39.379444 L -0.6126446,39.38035 L -0.61033714,39.378544 L -0.60572207,39.378544 L -0.60456836,39.377644 L -0.60572207,39.376743 L -0.6080296,39.376743 L -0.6091834,39.375843 L -0.60572207,39.373142 L -0.6034146,39.374943 L -0.5987995,39.374943 L -0.59649205,39.373142 L -0.5941845,39.373142 L -0.59187704,39.371338 L -0.5895695,39.373142 L -0.5849545,39.373142 L -0.58380073,39.37224 L -0.587262,39.369537 L -0.5941845,39.369537 L -0.59649205,39.367737 L -0.60110706,39.367737 L -0.6022608,39.366837 L -0.6022608,39.36143 L -0.6034146,39.36053 L -0.60572207,39.36233 L -0.60687584,39.36143 L -0.6022608,39.357826 L -0.60456836,39.356026 L -0.60110706,39.353325 L -0.5987995,39.355125 L -0.5941845,39.355125 L -0.59187704,39.356926 L -0.5849545,39.356926 L -0.58380073,39.356026 L -0.58380073,39.354225 L -0.5861082,39.35242 L -0.5849545,39.35152 L -0.5734169,39.35152 L -0.5688019,39.34792 L -0.5641869,39.34792 L -0.5630331,39.34702 L -0.5630331,39.345215 L -0.56187934,39.344315 L -0.55957186,39.344315 L -0.5572643,39.342514 L -0.5526493,39.342514 L -0.5503418,39.344315 L -0.5457268,39.344315 L -0.544573,39.343414 L -0.544573,39.341614 L -0.5422655,39.339813 L -0.5422655,39.33621 L -0.5411117,39.335308 L -0.53880423,39.335308 L -0.5364967,39.333508 L -0.5341892,39.333508 L -0.53303546,39.332607 L -0.5318817,39.332005 L -0.52957416,39.331703 L -0.5284204,39.330803 L -0.5284204,39.329002 L -0.5280358,39.3272 L -0.5280358,39.325397 L -0.5272667,39.324497 L -0.5261129,39.323597 L -0.5257283,39.321796 L -0.52495915,39.321194 L -0.5226516,39.320896 L -0.5191904,39.31819 L -0.5180366,39.317593 L -0.51572907,39.31729 L -0.5134216,39.31729 L -0.5122678,39.31639 L -0.5134216,39.31549 L -0.51419073,39.31459 L -0.51419073,39.31279 L -0.51649827,39.310986 L -0.51419073,39.309185 L -0.51419073,39.30558 L -0.5134216,39.30498 L -0.51111406,39.30468 L -0.5099603,39.30378 L -0.51111406,39.30288 L -0.5134216,39.302578 L -0.51572907,39.302578 L -0.5180366,39.30288 L -0.52034414,39.302578 L -0.52149785,39.30198 L -0.52495915,39.29928 L -0.52957416,39.29928 L -0.53534293,39.294773 L -0.53534293,39.292973 L -0.54341924,39.286667 L -0.54803425,39.286667 L -0.5526493,39.283062 L -0.5572643,39.283062 L -0.55957186,39.284863 L -0.56187934,39.283062 L -0.5641869,39.283062 L -0.56534064,39.283962 L -0.5630331,39.285767 L -0.5641869,39.286667 L -0.5757244,39.286667 L -0.5768782,39.285767 L -0.5768782,39.283962 L -0.5814932,39.28036 L -0.57918566,39.278557 L -0.5814932,39.276756 L -0.57918566,39.274956 L -0.5814932,39.273155 L -0.5814932,39.27135 L -0.57918566,39.26955 L -0.57918566,39.26775 L -0.5814932,39.26595 L -0.5814932,39.262344 L -0.58380073,39.260544 L -0.58264697,39.259644 L -0.58033943,39.261444 L -0.57918566,39.260544 L -0.57918566,39.25514 L -0.5814932,39.253338 L -0.5814932,39.251534 L -0.57918566,39.249733 L -0.57918566,39.247932 L -0.5768782,39.24613 L -0.5768782,39.244328 L -0.57918566,39.242527 L -0.57918566,39.240726 L -0.58033943,39.239826 L -0.58264697,39.239826 L -0.5849545,39.23802 L -0.587262,39.23802 L -0.5907233,39.23532 L -0.5907233,39.23352 L -0.59187704,39.23262 L -0.5941845,39.23262 L -0.59649205,39.230816 L -0.5987995,39.230816 L -0.5999533,39.229916 L -0.5953383,39.226315 L -0.5953383,39.22451 L -0.5941845,39.22361 L -0.59187704,39.22361 L -0.587262,39.22001 L -0.58264697,39.22001 L -0.5814932,39.21911 L -0.5849545,39.216404 L -0.5987995,39.216404 L -0.5999533,39.215504 L -0.59649205,39.212803 L -0.59187704,39.212803 L -0.5895695,39.211 L -0.5849545,39.211 L -0.58264697,39.209198 L -0.57803196,39.209198 L -0.5757244,39.211 L -0.57457066,39.2101 L -0.57457066,39.208298 L -0.5757244,39.207397 L -0.57803196,39.207397 L -0.5814932,39.204693 L -0.57918566,39.202892 L -0.58264697,39.20019 L -0.5849545,39.20019 L -0.5861082,39.19929 L -0.5849545,39.198387 L -0.58264697,39.198387 L -0.57803196,39.201992 L -0.57457066,39.19929 L -0.57457066,39.197487 L -0.5734169,39.196587 L -0.5711094,39.196587 L -0.56995565,39.195686 L -0.56995565,39.19028 L -0.56649435,39.18758 L -0.5641869,39.18758 L -0.5630331,39.18668 L -0.5630331,39.184875 L -0.56649435,39.182175 L -0.5688019,39.182175 L -0.56995565,39.181274 L -0.56649435,39.178574 L -0.5641869,39.180374 L -0.56187934,39.180374 L -0.56072557,39.179474 L -0.56072557,39.17767 L -0.5630331,39.17587 L -0.56072557,39.17407 L -0.56649435,39.169563 L -0.5688019,39.169563 L -0.56995565,39.168663 L -0.5688019,39.167763 L -0.56187934,39.167763 L -0.55957186,39.169563 L -0.5572643,39.167763 L -0.5503418,39.167763 L -0.54688054,39.165062 L -0.54688054,39.163258 L -0.5503418,39.160557 L -0.5549568,39.160557 L -0.5572643,39.158756 L -0.5688019,39.158756 L -0.56995565,39.157852 L -0.56995565,39.15425 L -0.5688019,39.15335 L -0.56649435,39.15335 L -0.56534064,39.15245 L -0.5676481,39.150646 L -0.5676481,39.148846 L -0.5711094,39.146145 L -0.5734169,39.146145 L -0.57457066,39.145245 L -0.57457066,39.14164 L -0.5688019,39.137135 L -0.5676481,39.138035 L -0.5676481,39.13984 L -0.56534064,39.14164 L -0.56534064,39.145245 L -0.56072557,39.148846 L -0.56072557,39.150646 L -0.5572643,39.15335 L -0.5549568,39.15335 L -0.549188,39.148846 L -0.549188,39.145245 L -0.55149555,39.14344 L -0.55149555,39.14164 L -0.549188,39.13984 L -0.549188,39.136234 L -0.5503418,39.135334 L -0.5641869,39.135334 L -0.56534064,39.134434 L -0.56534064,39.132633 L -0.56649435,39.131733 L -0.5688019,39.131733 L -0.56995565,39.132633 L -0.56995565,39.134434 L -0.5711094,39.135334 L -0.57457066,39.132633 L -0.5711094,39.12993 L -0.5641869,39.12993 L -0.5630331,39.12903 L -0.5630331,39.125427 L -0.56534064,39.123623 L -0.5641869,39.122723 L -0.5572643,39.122723 L -0.55611056,39.121822 L -0.55611056,39.12002 L -0.553803,39.11822 L -0.553803,39.11101 L -0.549188,39.10741 L -0.55149555,39.10561 L -0.54803425,39.102905 L -0.5457268,39.102905 L -0.544573,39.102005 L -0.544573,39.0966 L -0.5422655,39.0948 L -0.54341924,39.0939 L -0.5457268,39.0939 L -0.54803425,39.0957 L -0.5526493,39.0957 L -0.5549568,39.0975 L -0.55957186,39.0975 L -0.5641869,39.0939 L -0.56649435,39.0939 L -0.5688019,39.0957 L -0.56995565,39.0948 L -0.5676481,39.093 L -0.56995565,39.091194 L -0.5688019,39.090294 L -0.56649435,39.090294 L -0.5641869,39.088493 L -0.56187934,39.088493 L -0.56072557,39.087593 L -0.56072557,39.085793 L -0.5630331,39.08399 L -0.5630331,39.076782 L -0.56534064,39.07498 L -0.5641869,39.07408 L -0.56187934,39.07408 L -0.56072557,39.07318 L -0.56187934,39.07228 L -0.56649435,39.07228 L -0.5688019,39.070477 L -0.5711094,39.07228 L -0.57457066,39.069576 L -0.5734169,39.068676 L -0.5711094,39.068676 L -0.56995565,39.067776 L -0.56995565,39.06417 L -0.5688019,39.06327 L -0.56649435,39.06327 L -0.5641869,39.06147 L -0.56187934,39.06147 L -0.56072557,39.06057 L -0.56072557,39.05877 L -0.55957186,39.05787 L -0.5572643,39.05967 L -0.55611056,39.05877 L -0.55611056,39.053364 L -0.553803,39.051563 L -0.553803,39.04976 L -0.5549568,39.04886 L -0.5584181,39.051563 L -0.5584181,39.053364 L -0.55957186,39.054264 L -0.5630331,39.051563 L -0.5630331,39.04796 L -0.56534064,39.046158 L -0.56187934,39.043453 L -0.56072557,39.044357 L -0.56072557,39.046158 L -0.55957186,39.04706 L -0.5584181,39.046158 L -0.5584181,39.044357 L -0.5572643,39.043453 L -0.55611056,39.044357 L -0.55611056,39.046158 L -0.5549568,39.04706 L -0.5526493,39.04706 L -0.55149555,39.046158 L -0.55149555,39.044357 L -0.5503418,39.043453 L -0.54803425,39.043453 L -0.54688054,39.042553 L -0.54688054,39.040752 L -0.549188,39.03895 L -0.549188,39.037148 L -0.55149555,39.035347 L -0.55149555,39.02994 L -0.5503418,39.02904 L -0.544573,39.033546 L -0.544573,39.03895 L -0.5422655,39.040752 L -0.5422655,39.042553 L -0.539958,39.044357 L -0.544573,39.04796 L -0.544573,39.055164 L -0.54341924,39.056065 L -0.5422655,39.055164 L -0.5422655,39.053364 L -0.539958,39.051563 L -0.539958,39.04976 L -0.53880423,39.04886 L -0.53765047,39.04976 L -0.53765047,39.053364 L -0.5341892,39.056065 L -0.5318817,39.056065 L -0.5307279,39.056965 L -0.5307279,39.05877 L -0.5284204,39.06057 L -0.5284204,39.06237 L -0.5272667,39.06327 L -0.52495915,39.06327 L -0.5238054,39.06417 L -0.5238054,39.065975 L -0.5226516,39.066875 L -0.52034414,39.066875 L -0.5191904,39.067776 L -0.5191904,39.069576 L -0.52034414,39.070477 L -0.5226516,39.070477 L -0.52495915,39.068676 L -0.5272667,39.068676 L -0.5318817,39.07228 L -0.53303546,39.07138 L -0.53303546,39.069576 L -0.5364967,39.066875 L -0.5411117,39.066875 L -0.5422655,39.067776 L -0.5422655,39.07138 L -0.539958,39.07318 L -0.5422655,39.07498 L -0.5422655,39.076782 L -0.54341924,39.077682 L -0.5457268,39.077682 L -0.55149555,39.082188 L -0.5503418,39.083088 L -0.54803425,39.083088 L -0.5457268,39.081287 L -0.544573,39.082188 L -0.544573,39.08399 L -0.54341924,39.084892 L -0.5411117,39.084892 L -0.53880423,39.083088 L -0.53765047,39.08399 L -0.53765047,39.085793 L -0.53534293,39.087593 L -0.53534293,39.089394 L -0.51688284,39.103806 L -0.51688284,39.10741 L -0.51572907,39.10831 L -0.5134216,39.10831 L -0.51111406,39.11011 L -0.50649905,39.11011 L -0.50303775,39.10741 L -0.50303775,39.10561 L -0.5053453,39.103806 L -0.5053453,39.100204 L -0.5076528,39.098404 L -0.5076528,39.0966 L -0.5041915,39.0939 L -0.49496147,39.101105 L -0.49265397,39.101105 L -0.4915002,39.100204 L -0.4915002,39.098404 L -0.49034646,39.0975 L -0.48803893,39.0975 L -0.48342392,39.0939 L -0.48227015,39.0948 L -0.4868852,39.098404 L -0.4868852,39.100204 L -0.4891927,39.102005 L -0.4891927,39.10561 L -0.49034646,39.10651 L -0.49265397,39.10471 L -0.49380773,39.10561 L -0.49380773,39.10741 L -0.4891927,39.11101 L -0.49034646,39.111916 L -0.49496147,39.111916 L -0.49611524,39.11101 L -0.49611524,39.10921 L -0.49726897,39.10831 L -0.50303775,39.112816 L -0.50303775,39.114616 L -0.5041915,39.115517 L -0.50649905,39.115517 L -0.5099603,39.11822 L -0.5041915,39.122723 L -0.49496147,39.122723 L -0.49265397,39.124523 L -0.49034646,39.122723 L -0.48573142,39.122723 L -0.48457766,39.123623 L -0.48457766,39.125427 L -0.4891927,39.12903 L -0.4891927,39.13083 L -0.48573142,39.133533 L -0.47419387,39.133533 L -0.46957883,39.137135 L -0.4626563,39.137135 L -0.46150255,39.138035 L -0.46150255,39.14344 L -0.46034878,39.14434 L -0.45573375,39.14434 L -0.45458,39.14344 L -0.45458,39.13984 L -0.4522725,39.138035 L -0.4522725,39.136234 L -0.45111874,39.135334 L -0.4465037,39.13894 L -0.4441962,39.13894 L -0.44304243,39.138035 L -0.44304243,39.136234 L -0.44765747,39.132633 L -0.44534996,39.13083 L -0.4465037,39.12993 L -0.44881123,39.12993 L -0.44996497,39.12903 L -0.44881123,39.128128 L -0.4465037,39.128128 L -0.4441962,39.126328 L -0.4418887,39.126328 L -0.44073492,39.127228 L -0.44073492,39.12903 L -0.43727365,39.131733 L -0.43496615,39.12993 L -0.43265864,39.131733 L -0.43150488,39.13083 L -0.43150488,39.12903 L -0.4303511,39.128128 L -0.4280436,39.128128 L -0.4257361,39.126328 L -0.42458233,39.127228 L -0.42458233,39.13083 L -0.42688984,39.132633 L -0.42458233,39.134434 L -0.42688984,39.136234 L -0.4257361,39.137135 L -0.42112106,39.137135 L -0.41650605,39.133533 L -0.41304478,39.136234 L -0.41881356,39.14074 L -0.42112106,39.14074 L -0.42227483,39.14164 L -0.42227483,39.145245 L -0.42458233,39.147045 L -0.42458233,39.148846 L -0.4234286,39.149746 L -0.41419852,39.149746 L -0.411891,39.147945 L -0.407276,39.147945 L -0.40496847,39.146145 L -0.40266097,39.147945 L -0.39804593,39.147945 L -0.38420087,39.137135 L -0.38189334,39.137135 L -0.37958583,39.135334 L -0.3784321,39.136234 L -0.38189334,39.13894 L -0.38420087,39.13894 L -0.3853546,39.13984 L -0.38189334,39.14254 L -0.37727833,39.14254 L -0.37381706,39.145245 L -0.37381706,39.148846 L -0.3726633,39.149746 L -0.36112574,39.149746 L -0.3565107,39.146145 L -0.3542032,39.146145 L -0.35304943,39.145245 L -0.35304943,39.13984 L -0.3518957,39.13894 L -0.34266564,39.13894 L -0.3357431,39.133533 L -0.32882056,39.133533 L -0.3276668,39.132633 L -0.32997432,39.13083 L -0.32997432,39.127228 L -0.33228183,39.125427 L -0.33228183,39.123623 L -0.33112806,39.122723 L -0.32882056,39.122723 L -0.32651305,39.120922 L -0.32420552,39.120922 L -0.32305178,39.121822 L -0.32305178,39.125427 L -0.317283,39.12993 L -0.31036046,39.12993 L -0.3092067,39.12903 L -0.3092067,39.127228 L -0.3115142,39.125427 L -0.3115142,39.123623 L -0.31382173,39.121822 L -0.31266797,39.120922 L -0.31036046,39.122723 L -0.3092067,39.121822 L -0.3092067,39.12002 L -0.3115142,39.11822 L -0.30805293,39.115517 L -0.29882288,39.115517 L -0.29651538,39.117317 L -0.29420787,39.117317 L -0.29190034,39.11912 L -0.2907466,39.11822 L -0.2907466,39.114616 L -0.27805528,39.10471 L -0.27574778,39.10471 L -0.274594,39.103806 L -0.274594,39.102005 L -0.25844142,39.089394 L -0.25844142,39.087593 L -0.2561339,39.085793 L -0.2561339,39.082188 L -0.25728765,39.081287 L -0.2619027,39.081287 L -0.26305643,39.080387 L -0.26305643,39.078587 L -0.26536396,39.076782 L -0.26536396,39.07498 L -0.2665177,39.07408 L -0.26882523,39.07408 L -0.26997897,39.07318 L -0.26997897,39.069576 L -0.26882523,39.068676 L -0.2665177,39.068676 L -0.2642102,39.066875 L -0.25267264,39.066875 L -0.25151888,39.065975 L -0.25267264,39.065075 L -0.25728765,39.065075 L -0.26074892,39.06237 L -0.2595952,39.06147 L -0.2457501,39.06147 L -0.24459633,39.06057 L -0.24459633,39.05877 L -0.24113508,39.056065 L -0.23652004,39.056065 L -0.23536628,39.055164 L -0.23536628,39.053364 L -0.23305878,39.051563 L -0.23536628,39.04976 L -0.23536628,39.04796 L -0.2376738,39.046158 L -0.2376738,39.044357 L -0.23305878,39.040752 L -0.23305878,39.03895 L -0.23075126,39.037148 L -0.23075126,39.033546 L -0.23190501,39.032646 L -0.23421253,39.032646 L -0.23536628,39.031746 L -0.23305878,39.02994 L -0.2376738,39.02634 L -0.23652004,39.02544 L -0.23190501,39.02544 L -0.22959751,39.02724 L -0.22498249,39.02724 L -0.2192137,39.022736 L -0.2192137,39.01733 L -0.21805994,39.01643 L -0.21575242,39.01643 L -0.21459867,39.01553 L -0.21690619,39.01373 L -0.21575242,39.01283 L -0.21344492,39.01463 L -0.2111374,39.01283 L -0.2088299,39.01283 L -0.20536862,39.01553 L -0.20536862,39.01733 L -0.20652238,39.018234 L -0.2088299,39.018234 L -0.21229117,39.020935 L -0.21229117,39.022736 L -0.21459867,39.02454 L -0.21344492,39.02544 L -0.2111374,39.02544 L -0.20998365,39.02634 L -0.21229117,39.02814 L -0.21229117,39.033546 L -0.20998365,39.035347 L -0.21459867,39.03895 L -0.2111374,39.041653 L -0.20421487,39.041653 L -0.20190735,39.039852 L -0.19498481,39.039852 L -0.19383106,39.040752 L -0.19498481,39.041653 L -0.19729233,39.041653 L -0.19959983,39.04323 L -0.19844608,39.044357 L -0.19844608,39.04796 L -0.2007536,39.04976 L -0.2007536,39.051563 L -0.19844608,39.053364 L -0.19844608,39.05877 L -0.2007536,39.06057 L -0.2007536,39.06237 L -0.20190735,39.063496 L -0.2030611,39.065975 L -0.20421487,39.066875 L -0.20652238,39.065075 L -0.20767613,39.065975 L -0.20767613,39.067776 L -0.20998365,39.069576 L -0.20998365,39.07138 L -0.21344492,39.07408 L -0.21575242,39.07228 L -0.21690619,39.07318 L -0.21690619,39.07498 L -0.21459867,39.076782 L -0.21459867,39.078587 L -0.21229117,39.080387 L -0.21229117,39.08399 L -0.21344492,39.085117 L -0.21431023,39.087593 L -0.21431023,39.089394 L -0.21575242,39.09052 L -0.21690619,39.093 L -0.22036746,39.0957 L -0.22267497,39.0957 L -0.22382872,39.0966 L -0.2192137,39.100204 L -0.22036746,39.10133 L -0.22123277,39.103806 L -0.22123277,39.10561 L -0.22267497,39.106735 L -0.22354029,39.10921 L -0.22498249,39.11011 L -0.22844374,39.11101 L -0.22613624,39.112816 L -0.22613624,39.114616 L -0.22728999,39.11574 L -0.22815531,39.11822 L -0.22815531,39.12002 L -0.22844374,39.121822 L -0.22959751,39.122948 L -0.23046282,39.123623 L -0.23190501,39.124523 L -0.23536628,39.125427 L -0.23536628,39.127228 L -0.23998131,39.13083 L -0.23882756,39.131733 L -0.23652004,39.131733 L -0.23507784,39.132633 L -0.23536628,39.136234 L -0.23652004,39.13736 L -0.23652004,39.140514 L -0.23507784,39.14164 L -0.23882756,39.144566 L -0.23969287,39.147045 L -0.23882756,39.14952 L -0.23738536,39.150646 L -0.23882756,39.151546 L -0.24344258,39.153126 L -0.24113508,39.15515 L -0.23998131,39.15605 L -0.23998131,39.161457 L -0.23969287,39.163258 L -0.23998131,39.166862 L -0.23998131,39.170464 L -0.24228883,39.172268 L -0.23998131,39.17407 L -0.23998131,39.17587 L -0.24113508,39.17677 L -0.24228883,39.17587 L -0.24228883,39.17407 L -0.2457501,39.171364 L -0.2480576,39.171364 L -0.24921137,39.170464 L -0.24921137,39.168663 L -0.2503651,39.167763 L -0.25498015,39.167763 L -0.2561339,39.168663 L -0.2561339,39.17587 L -0.25498015,39.17677 L -0.25267264,39.17677 L -0.24344258,39.183975 L -0.24113508,39.183975 L -0.23882756,39.18578 L -0.23652004,39.18578 L -0.23190501,39.18938 L -0.22959751,39.18938 L -0.22844374,39.19028 L -0.23075126,39.192085 L -0.22613624,39.195686 L -0.22728999,39.196587 L -0.22959751,39.196587 L -0.23305878,39.19929 L -0.23305878,39.20109 L -0.23075126,39.202892 L -0.23075126,39.204693 L -0.23190501,39.205822 L -0.23305878,39.208298 L -0.23536628,39.2101 L -0.23536628,39.2119 L -0.23652004,39.213028 L -0.23738536,39.215504 L -0.23882756,39.21663 L -0.23998131,39.21911 L -0.24113508,39.220234 L -0.24200039,39.22271 L -0.24344258,39.223835 L -0.2443079,39.226315 L -0.2457501,39.22744 L -0.24661541,39.229916 L -0.2480576,39.23104 L -0.24892293,39.23352 L -0.2503651,39.234646 L -0.25123045,39.23712 L -0.25353795,39.238926 L -0.25498015,39.239826 L -0.25844142,39.240726 L -0.25844142,39.242527 L -0.26074892,39.244328 L -0.26074892,39.247932 L -0.2595952,39.248833 L -0.25815296,39.249733 L -0.25844142,39.251534 L -0.2595952,39.252663 L -0.2604605,39.25514 L -0.2619027,39.256264 L -0.262768,39.25874 L -0.262768,39.260544 L -0.2642102,39.26167 L -0.2650755,39.264145 L -0.2665177,39.26527 L -0.26738304,39.26775 L -0.26882523,39.268875 L -0.26969054,39.27135 L -0.27113274,39.27248 L -0.27199805,39.274956 L -0.27344024,39.27608 L -0.27430555,39.278557 L -0.27430555,39.28036 L -0.27574778,39.281487 L -0.2766131,39.283962 L -0.27805528,39.285088 L -0.2789206,39.287567 L -0.28036278,39.288692 L -0.2812281,39.29117 L -0.2826703,39.292294 L -0.28353563,39.294773 L -0.28497782,39.2959 L -0.28584313,39.298374 L -0.28728533,39.299503 L -0.28815064,39.30198 L -0.28959283,39.303104 L -0.29045814,39.30558 L -0.29045814,39.307384 L -0.29190034,39.30851 L -0.29276568,39.310986 L -0.29276568,39.31279 L -0.29420787,39.313915 L -0.29507318,39.31639 L -0.29651538,39.317516 L -0.2973807,39.319996 L -0.2973807,39.321796 L -0.29882288,39.32292 L -0.29968822,39.325397 L -0.3011304,39.326527 L -0.30199572,39.329002 L -0.30199572,39.330803 L -0.3045917,39.334408 L -0.3045917,39.33621 L -0.30574542,39.337334 L -0.30661073,39.339813 L -0.30728376,39.341614 L -0.30805293,39.34274 L -0.30891827,39.345215 L -0.30891827,39.34702 L -0.31036046,39.348145 L -0.31122577,39.35062 L -0.31122577,39.35242 L -0.31266797,39.35355 L -0.31353328,39.356026 L -0.31353328,39.357826 L -0.31497547,39.35895 L -0.3158408,39.36143 L -0.3158408,39.36323 L -0.317283,39.364357 L -0.31814831,39.366837 L -0.31814831,39.370438 L -0.3195905,39.371563 L -0.32045582,39.374043 L -0.32045582,39.375843 L -0.321898,39.37697 L -0.32276332,39.379444 L -0.32276332,39.38305 L -0.32420552,39.384174 L -0.32507086,39.386654 L -0.32507086,39.388454 L -0.32651305,39.38958 L -0.32737836,39.392056 L -0.32737836,39.39926 L -0.32882056,39.40039 L -0.32968587,39.402866 L -0.32968587,39.40647 L -0.33112806,39.407597 L -0.33199337,39.410072 L -0.33199337,39.415478 L -0.3334356,39.416603 L -0.3334356,39.417953 L -0.33199337,39.41908 L -0.33199337,39.422684 L -0.33112806,39.42516 L -0.3256477,39.426285 L -0.32420552,39.42516 L -0.321898,39.42381 L -0.3233402,39.422684 L -0.321898,39.42156 L -0.32045582,39.422684 L -0.317283,39.42201 L -0.3187252,39.420883 L -0.317283,39.419758 L -0.31122577,39.424484 L -0.31036046,39.426964 L -0.30891827,39.42809 L -0.30891827,39.43169 L -0.31036046,39.432816 L -0.31266797,39.432816 L -0.31814831,39.43169 L -0.3195905,39.432816 L -0.321898,39.432816 L -0.32507086,39.433495 L -0.32651305,39.43462 L -0.32882056,39.43777 L -0.3233402,39.438896 L -0.321898,39.43777 L -0.31814831,39.4407 L -0.31814831,39.4443 L -0.3195905,39.445427 L -0.321898,39.44858 L -0.32045582,39.449707 L -0.321898,39.450832 L -0.32420552,39.452183 L -0.32276332,39.453312 L -0.32420552,39.454437 L -0.3233402,39.456913 L -0.3195905,39.453987 L -0.3187252,39.451508 L -0.317283,39.450382 L -0.31641766,39.447906 L -0.31497547,39.44678 L -0.31122577,39.449707 L -0.31036046,39.44723 L -0.31180266,39.446102 L -0.31180266,39.4425 L -0.31036046,39.441376 L -0.3048801,39.4425 L -0.3048801,39.437096 L -0.30343792,39.43597 L -0.30199572,39.437096 L -0.30199572,39.447906 L -0.30574542,39.450832 L -0.30891827,39.451508 L -0.31036046,39.452633 L -0.31036046,39.453987 L -0.30891827,39.455112 L -0.30805293,39.45759 L -0.30661073,39.458714 L -0.30343792,39.45939 L -0.30199572,39.460518 L -0.30343792,39.461643 L -0.30661073,39.46232 L -0.30805293,39.463444 L -0.30949512,39.46232 L -0.31036046,39.45984 L -0.31180266,39.458714 L -0.31497547,39.45939 L -0.31353328,39.460518 L -0.32045582,39.46592 L -0.32045582,39.469524 L -0.321898,39.47065 L -0.32276332,39.473125 L -0.32276332,39.50015 L -0.32420552,39.501278 L -0.32420552,39.50263 L -0.32276332,39.503754 L -0.321898,39.50623 L -0.32045582,39.50736 L -0.3195905,39.509834 L -0.31814831,39.51096 L -0.31814831,39.516365 L -0.317283,39.51884 L -0.3158408,39.519966 L -0.31497547,39.522446 L -0.31353328,39.52357 L -0.31353328,39.52537 L -0.31266797,39.52785 L -0.31122577,39.528976 L -0.31036046,39.531452 L -0.30891827,39.532578 L -0.30805293,39.535057 L -0.30430323,39.537983 L -0.30343792,39.540462 L -0.29968822,39.54339 L -0.29882288,39.545864 L -0.29276568,39.550594 L -0.29190034,39.55307 L -0.28584313,39.5578 L -0.28497782,39.560276 L -0.28353563,39.561405 L -0.2826703,39.56388 L -0.2789206,39.566807 L -0.27805528,39.569286 L -0.2766131,39.57041 L -0.2766131,39.572212 L -0.27574778,39.57469 L -0.27430555,39.575817 L -0.27430555,39.577618 L -0.27344024,39.580093 L -0.27199805,39.581223 L -0.27199805,39.586624 L -0.27113274,39.589104 L -0.26969054,39.59023 L -0.26969054,39.59203 L -0.26882523,39.59451 L -0.26738304,39.595634 L -0.26738304,39.599236 L -0.2665177,39.601715 L -0.2650755,39.60284 L -0.2619027,39.607117 L -0.2604605,39.608246 L -0.2619027,39.60937 L -0.2619027,39.61072 L -0.2604605,39.611847 L -0.2595952,39.614326 L -0.25815296,39.61545 L -0.2595952,39.616577 L -0.26103738,39.61545 L -0.2642102,39.614777 L -0.2656524,39.613647 L -0.26738304,39.611847 L -0.26882523,39.612972 L -0.27199805,39.613647 L -0.27574778,39.616577 L -0.2789206,39.617252 L -0.2826703,39.62018 L -0.28497782,39.621532 L -0.2766131,39.628063 L -0.27344024,39.62874 L -0.27199805,39.629864 L -0.26882523,39.63054 L -0.2604605,39.63707 L -0.25728765,39.637745 L -0.25584546,39.63887 L -0.25267264,39.639545 L -0.2494998,39.63887 L -0.2457501,39.635944 L -0.2443079,39.63707 L -0.24113508,39.637745 L -0.23652004,39.637745 L -0.23507784,39.63887 L -0.2333472,39.63887 L -0.22728999,39.63414 L -0.22411716,39.633465 L -0.22036746,39.63054 L -0.21719462,39.629864 L -0.21575242,39.62874 L -0.21431023,39.629864 L -0.21344492,39.63234 L -0.21200272,39.633465 L -0.21200272,39.63527 L -0.21344492,39.636395 L -0.21575242,39.636395 L -0.21892525,39.63707 L -0.22123277,39.63887 L -0.22267497,39.64315 L -0.21719462,39.644276 L -0.21575242,39.64315 L -0.21344492,39.64315 L -0.21200272,39.644276 L -0.21200272,39.646076 L -0.21805994,39.650806 L -0.21805994,39.652157 L -0.21661775,39.653282 L -0.21488711,39.655087 L -0.21027209,39.65148 L -0.21027209,39.646076 L -0.2088299,39.64495 L -0.2073877,39.646076 L -0.20652238,39.648556 L -0.20508018,39.64968 L -0.20508018,39.65148 L -0.2088299,39.65441 L -0.2088299,39.65576 L -0.2073877,39.656887 L -0.2073877,39.662292 L -0.20652238,39.66477 L -0.20508018,39.665894 L -0.20508018,39.667694 L -0.20421487,39.670174 L -0.20046516,39.6731 L -0.20190735,39.67738 L -0.20046516,39.678505 L -0.20046516,39.689316 L -0.19959983,39.69179 L -0.19815764,39.692917 L -0.19815764,39.698322 L -0.19729233,39.700798 L -0.19585013,39.701927 L -0.19585013,39.703728 L -0.19498481,39.706203 L -0.19354261,39.70733 L -0.19354261,39.709133 L -0.1926773,39.71161 L -0.19123511,39.712734 L -0.19123511,39.714535 L -0.19036978,39.717014 L -0.18892759,39.71814 L -0.18892759,39.71994 L -0.18806228,39.72242 L -0.18662009,39.723545 L -0.18662009,39.725346 L -0.18575476,39.72782 L -0.18431257,39.72895 L -0.18344724,39.731426 L -0.18200505,39.73255 L -0.18113974,39.73503 L -0.17969754,39.736156 L -0.17883222,39.738632 L -0.17508252,39.741558 L -0.1742172,39.744038 L -0.172775,39.745163 L -0.172775,39.746964 L -0.1742172,39.74809 L -0.17883222,39.74809 L -0.18719696,39.741558 L -0.18719696,39.736156 L -0.18806228,39.733677 L -0.18950447,39.73255 L -0.18950447,39.73075 L -0.19036978,39.728275 L -0.19181198,39.727146 L -0.19181198,39.723545 L -0.1926773,39.721066 L -0.19873452,39.71634 L -0.19959983,39.71386 L -0.20104204,39.712734 L -0.20104204,39.709133 L -0.20190735,39.706654 L -0.20334955,39.70553 L -0.20334955,39.700123 L -0.20508018,39.700123 L -0.20508018,39.70553 L -0.2088299,39.708458 L -0.2096952,39.710934 L -0.2096952,39.712734 L -0.2111374,39.71386 L -0.21200272,39.71634 L -0.21200272,39.71994 L -0.21344492,39.721066 L -0.21431023,39.723545 L -0.21575242,39.72467 L -0.21344492,39.72782 L -0.21200272,39.72895 L -0.2088299,39.729626 L -0.2073877,39.73075 L -0.2073877,39.736156 L -0.2096952,39.737957 L -0.2088299,39.740433 L -0.2073877,39.741558 L -0.20421487,39.742237 L -0.18892759,39.75417 L -0.1926773,39.7571 L -0.1926773,39.75845 L -0.19123511,39.759575 L -0.19123511,39.76498 L -0.1926773,39.766106 L -0.19354261,39.768585 L -0.19181198,39.772186 L -0.18575476,39.767456 L -0.18027441,39.768585 L -0.17883222,39.767456 L -0.172775,39.772186 L -0.16960217,39.77286 L -0.16498715,39.77286 L -0.16354495,39.773987 L -0.16267963,39.776466 L -0.1557571,39.78187 L -0.15258427,39.781193 L -0.14883456,39.778267 L -0.14652705,39.778267 L -0.14508484,39.779392 L -0.14421953,39.78187 L -0.14277734,39.782997 L -0.14191201,39.7875 L -0.13960451,39.789303 L -0.13729699,39.789303 L -0.13614324,39.790203 L -0.13614324,39.792004 L -0.13152821,39.79561 L -0.13152821,39.79741 L -0.1292207,39.79921 L -0.1292207,39.80101 L -0.12691319,39.802814 L -0.12691319,39.806416 L -0.12460567,39.808216 L -0.12460567,39.81002 L -0.1292207,39.81362 L -0.1292207,39.815426 L -0.12691319,39.817226 L -0.12691319,39.819027 L -0.12806694,39.819927 L -0.13037446,39.819927 L -0.13268197,39.818127 L -0.13614324,39.820827 L -0.13383572,39.82263 L -0.13383572,39.826233 L -0.13268197,39.827133 L -0.13152821,39.826233 L -0.13152821,39.824432 L -0.13037446,39.823532 L -0.12345192,39.823532 L -0.12229816,39.824432 L -0.12229816,39.826233 L -0.12460567,39.828033 L -0.12460567,39.829838 L -0.12345192,39.830738 L -0.12114441,39.830738 L -0.11999065,39.829838 L -0.11999065,39.826233 L -0.118836895,39.825333 L -0.117683135,39.826233 L -0.117683135,39.828033 L -0.116529375,39.828938 L -0.11422186,39.828938 L -0.11306811,39.829838 L -0.11422186,39.830738 L -0.116529375,39.830738 L -0.117683135,39.83164 L -0.117683135,39.83344 L -0.11537562,39.83524 L -0.117683135,39.837044 L -0.117683135,39.838844 L -0.116529375,39.839745 L -0.11422186,39.839745 L -0.11306811,39.840645 L -0.11537562,39.84245 L -0.11537562,39.84425 L -0.116529375,39.84515 L -0.118836895,39.84515 L -0.11999065,39.84605 L -0.11999065,39.849655 L -0.11537562,39.853256 L -0.11537562,39.855057 L -0.116529375,39.85596 L -0.12114441,39.85596 L -0.12229816,39.85686 L -0.12114441,39.85776 L -0.11191435,39.85776 L -0.10845308,39.860462 L -0.10845308,39.864067 L -0.10729933,39.864967 L -0.104991816,39.863167 L -0.10383806,39.864067 L -0.10614557,39.865868 L -0.101530544,39.869473 L -0.102684304,39.870373 L -0.10729933,39.870373 L -0.1107606,39.873074 L -0.10960684,39.873974 L -0.10729933,39.873974 L -0.104991816,39.87578 L -0.100376785,39.87578 L -0.09806927,39.873974 L -0.09691552,39.874874 L -0.09922303,39.87668 L -0.09922303,39.88028 L -0.09691552,39.88208 L -0.09806927,39.882984 L -0.102684304,39.882984 L -0.10729933,39.886585 L -0.10960684,39.886585 L -0.1107606,39.887486 L -0.1107606,39.89109 L -0.10845308,39.89289 L -0.10845308,39.89469 L -0.104991816,39.897396 L -0.102684304,39.897396 L -0.101530544,39.898296 L -0.102684304,39.899197 L -0.10729933,39.899197 L -0.10845308,39.900097 L -0.10383806,39.9037 L -0.104991816,39.904602 L -0.10960684,39.900997 L -0.11306811,39.9037 L -0.11306811,39.905502 L -0.11191435,39.906403 L -0.102684304,39.906403 L -0.101530544,39.907303 L -0.102684304,39.908203 L -0.104991816,39.908203 L -0.10614557,39.909103 L -0.10614557,39.910908 L -0.10383806,39.91271 L -0.10383806,39.91451 L -0.10614557,39.916313 L -0.10383806,39.918114 L -0.10614557,39.919914 L -0.10614557,39.921715 L -0.101530544,39.92532 L -0.101530544,39.92712 L -0.102684304,39.92802 L -0.10614557,39.92532 L -0.10614557,39.92352 L -0.10729933,39.92262 L -0.10960684,39.92262 L -0.11191435,39.920815 L -0.11422186,39.920815 L -0.11537562,39.919914 L -0.11537562,39.918114 L -0.116529375,39.917213 L -0.118836895,39.919014 L -0.12114441,39.919014 L -0.12229816,39.918114 L -0.12229816,39.916313 L -0.12345192,39.91541 L -0.12575942,39.91541 L -0.12691319,39.91451 L -0.12691319,39.91271 L -0.13037446,39.910007 L -0.13383572,39.91271 L -0.13152821,39.91451 L -0.13152821,39.918114 L -0.12806694,39.920815 L -0.12575942,39.919014 L -0.12460567,39.919914 L -0.12691319,39.921715 L -0.12345192,39.92442 L -0.12114441,39.92442 L -0.11999065,39.92532 L -0.12114441,39.92622 L -0.12345192,39.92622 L -0.12575942,39.92442 L -0.12806694,39.92442 L -0.13037446,39.92622 L -0.13152821,39.92532 L -0.13152821,39.921715 L -0.13614324,39.918114 L -0.13614324,39.916313 L -0.13729699,39.91541 L -0.13960451,39.91541 L -0.14075826,39.91451 L -0.14075826,39.91271 L -0.14191201,39.911808 L -0.14421953,39.91361 L -0.14652705,39.91361 L -0.14883456,39.91541 L -0.15114208,39.91541 L -0.15229583,39.916313 L -0.14883456,39.919014 L -0.14421953,39.919014 L -0.14306578,39.919914 L -0.14306578,39.921715 L -0.14421953,39.92262 L -0.15114208,39.92262 L -0.15344958,39.920815 L -0.1557571,39.920815 L -0.1580646,39.919014 L -0.16267963,39.919014 L -0.1661409,39.921715 L -0.1661409,39.92712 L -0.16267963,39.929825 L -0.1557571,39.929825 L -0.15114208,39.933426 L -0.14652705,39.933426 L -0.14537328,39.934326 L -0.14652705,39.935226 L -0.15114208,39.935226 L -0.15344958,39.933426 L -0.16267963,39.933426 L -0.16498715,39.931625 L -0.16729467,39.931625 L -0.17306344,39.93613 L -0.17306344,39.93793 L -0.1742172,39.93883 L -0.17652471,39.93883 L -0.17767847,39.93793 L -0.17537096,39.93613 L -0.17537096,39.932526 L -0.17652471,39.931625 L -0.18575476,39.931625 L -0.18690851,39.932526 L -0.18690851,39.934326 L -0.18229349,39.93793 L -0.18229349,39.93973 L -0.17998599,39.941532 L -0.18113974,39.942432 L -0.18575476,39.93883 L -0.18806228,39.93883 L -0.19036978,39.94063 L -0.19498481,39.93703 L -0.19729233,39.93703 L -0.2007536,39.93973 L -0.2007536,39.941532 L -0.20536862,39.945137 L -0.20536862,39.946938 L -0.20652238,39.947838 L -0.20767613,39.946938 L -0.20767613,39.945137 L -0.2030611,39.941532 L -0.2030611,39.93793 L -0.2007536,39.93613 L -0.2007536,39.934326 L -0.20421487,39.931625 L -0.20652238,39.933426 L -0.20767613,39.932526 L -0.20536862,39.930725 L -0.20536862,39.92892 L -0.20998365,39.92532 L -0.20767613,39.92352 L -0.20767613,39.921715 L -0.20998365,39.919914 L -0.2088299,39.919014 L -0.20652238,39.919014 L -0.20421487,39.917213 L -0.20190735,39.917213 L -0.2007536,39.916313 L -0.20190735,39.91541 L -0.20421487,39.91541 L -0.20536862,39.91451 L -0.2030611,39.91271 L -0.2030611,39.909103 L -0.20767613,39.905502 L -0.20767613,39.9037 L -0.20536862,39.901897 L -0.20652238,39.900997 L -0.21575242,39.900997 L -0.21805994,39.899197 L -0.23421253,39.899197 L -0.23652004,39.900997 L -0.23882756,39.900997 L -0.24113508,39.899197 L -0.24344258,39.899197 L -0.24459633,39.898296 L -0.24459633,39.896496 L -0.24690385,39.89469 L -0.2457501,39.89379 L -0.24344258,39.89379 L -0.24113508,39.89559 L -0.23882756,39.89559 L -0.23652004,39.89379 L -0.22498249,39.89379 L -0.22267497,39.89199 L -0.22036746,39.89199 L -0.2192137,39.89109 L -0.22267497,39.888386 L -0.22498249,39.888386 L -0.22613624,39.887486 L -0.22613624,39.883884 L -0.22844374,39.88208 L -0.22844374,39.88028 L -0.23075126,39.87848 L -0.23075126,39.873074 L -0.22959751,39.872173 L -0.22498249,39.872173 L -0.22382872,39.873074 L -0.22382872,39.874874 L -0.22152121,39.87668 L -0.22152121,39.87848 L -0.22036746,39.87938 L -0.2088299,39.87938 L -0.20536862,39.87668 L -0.20536862,39.874874 L -0.20998365,39.871273 L -0.20767613,39.869473 L -0.20767613,39.86767 L -0.20652238,39.866768 L -0.20421487,39.866768 L -0.20190735,39.864967 L -0.19959983,39.864967 L -0.19613858,39.862267 L -0.19729233,39.861362 L -0.19959983,39.861362 L -0.20190735,39.863167 L -0.20421487,39.863167 L -0.20652238,39.864967 L -0.2088299,39.863167 L -0.2111374,39.863167 L -0.21459867,39.860462 L -0.21459867,39.855057 L -0.20998365,39.851456 L -0.20998365,39.849655 L -0.20767613,39.84785 L -0.20767613,39.84605 L -0.2030611,39.84245 L -0.2030611,39.840645 L -0.20767613,39.837044 L -0.20767613,39.83524 L -0.21344492,39.830738 L -0.21575242,39.830738 L -0.22267497,39.836143 L -0.22728999,39.836143 L -0.22959751,39.837944 L -0.23421253,39.837944 L -0.24228883,39.83164 L -0.24228883,39.829838 L -0.24344258,39.828938 L -0.2503651,39.828938 L -0.25267264,39.827133 L -0.25728765,39.827133 L -0.25844142,39.826233 L -0.25728765,39.825333 L -0.25498015,39.825333 L -0.25267264,39.823532 L -0.2480576,39.823532 L -0.24690385,39.82263 L -0.2480576,39.821728 L -0.2503651,39.821728 L -0.25151888,39.820827 L -0.2503651,39.819927 L -0.2480576,39.819927 L -0.24690385,39.819027 L -0.24921137,39.817226 L -0.2480576,39.816326 L -0.2457501,39.816326 L -0.24228883,39.81362 L -0.24228883,39.81002 L -0.24344258,39.80912 L -0.2480576,39.80912 L -0.2561339,39.802814 L -0.2561339,39.80101 L -0.2595952,39.79831 L -0.2619027,39.798008 L -0.26305643,39.79741 L -0.2642102,39.79651 L -0.2665177,39.796207 L -0.26882523,39.79651 L -0.27113274,39.79651 L -0.27344024,39.796207 L -0.274594,39.79561 L -0.27805528,39.792904 L -0.28497782,39.792904 L -0.28613156,39.793804 L -0.28613156,39.79561 L -0.28959283,39.79831 L -0.29190034,39.79831 L -0.29420787,39.80011 L -0.29882288,39.80011 L -0.3068992,39.793804 L -0.3068992,39.792004 L -0.31036046,39.789303 L -0.31266797,39.789303 L -0.31612924,39.792004 L -0.31612924,39.793804 L -0.31843674,39.79561 L -0.31843674,39.79741 L -0.32651305,39.803715 L -0.33112806,39.803715 L -0.33458933,39.80101 L -0.33458933,39.79921 L -0.34151188,39.793804 L -0.34151188,39.792004 L -0.33920437,39.790203 L -0.3403581,39.789303 L -0.34266564,39.789303 L -0.34381938,39.7884 L -0.34381938,39.7866 L -0.34497315,39.785698 L -0.34728065,39.785698 L -0.34958816,39.7875 L -0.3518957,39.7875 L -0.35304943,39.7884 L -0.35304943,39.792004 L -0.34958816,39.794704 L -0.34728065,39.794704 L -0.34381938,39.79741 L -0.34381938,39.81182 L -0.34151188,39.81362 L -0.34151188,39.815426 L -0.34266564,39.816326 L -0.34381938,39.815426 L -0.34381938,39.81362 L -0.34843442,39.81002 L -0.34843442,39.806416 L -0.35074192,39.804615 L -0.35074192,39.80101 L -0.3542032,39.79831 L -0.36112574,39.79831 L -0.3668945,39.793804 L -0.36574075,39.79268 L -0.36804828,39.791103 L -0.36920202,39.790203 L -0.36920202,39.7884 L -0.37035578,39.7875 L -0.37150955,39.7884 L -0.37150955,39.792004 L -0.3726633,39.792904 L -0.37958583,39.792904 L -0.38189334,39.791103 L -0.38420087,39.791103 L -0.38650838,39.792904 L -0.39573842,39.792904 L -0.39804593,39.794704 L -0.40266097,39.794704 L -0.40381473,39.79561 L -0.40266097,39.79651 L -0.39573842,39.79651 L -0.39343092,39.794704 L -0.38996965,39.79741 L -0.38996965,39.79921 L -0.39227715,39.80101 L -0.39227715,39.802814 L -0.39573842,39.805515 L -0.40035346,39.805515 L -0.40381473,39.808216 L -0.40381473,39.81002 L -0.407276,39.81272 L -0.4095835,39.81272 L -0.41073725,39.81362 L -0.41073725,39.815426 L -0.4095835,39.816326 L -0.40266097,39.816326 L -0.40035346,39.818127 L -0.39804593,39.818127 L -0.38881588,39.825333 L -0.38650838,39.825333 L -0.38189334,39.828938 L -0.37727833,39.828938 L -0.37497082,39.830738 L -0.3726633,39.830738 L -0.37035578,39.83254 L -0.36804828,39.83254 L -0.3668945,39.83344 L -0.3668945,39.83524 L -0.37035578,39.837944 L -0.37150955,39.837044 L -0.37150955,39.83524 L -0.3726633,39.83434 L -0.37497082,39.83434 L -0.37727833,39.83254 L -0.38189334,39.83254 L -0.38420087,39.830738 L -0.38650838,39.830738 L -0.38881588,39.828938 L -0.39343092,39.828938 L -0.39573842,39.827133 L -0.39804593,39.827133 L -0.3991997,39.828033 L -0.3991997,39.83164 L -0.4015072,39.83344 L -0.4015072,39.83524 L -0.40266097,39.836143 L -0.40381473,39.83524 L -0.40381473,39.83164 L -0.40612224,39.829838 L -0.40612224,39.828033 L -0.4015072,39.824432 L -0.40266097,39.823532 L -0.411891,39.823532 L -0.41419852,39.821728 L -0.41650605,39.821728 L -0.4176598,39.82263 L -0.4176598,39.824432 L -0.41535228,39.826233 L -0.41535228,39.829838 L -0.41304478,39.83164 L -0.41304478,39.83524 L -0.4095835,39.837944 L -0.407276,39.836143 L -0.40612224,39.837044 L -0.4095835,39.839745 L -0.411891,39.839745 L -0.4176598,39.83524 L -0.4176598,39.83344 L -0.41996732,39.83164 L -0.41996732,39.829838 L -0.42112106,39.828938 L -0.4234286,39.828938 L -0.42458233,39.829838 L -0.42458233,39.83164 L -0.42919737,39.83524 L -0.42919737,39.837044 L -0.43150488,39.838844 L -0.43150488,39.84245 L -0.43381238,39.84425 L -0.43381238,39.84605 L -0.43496615,39.84695 L -0.4361199,39.84605 L -0.4361199,39.837044 L -0.43381238,39.83524 L -0.43381238,39.83344 L -0.43150488,39.83164 L -0.43150488,39.828033 L -0.42919737,39.826233 L -0.42919737,39.824432 L -0.43265864,39.821728 L -0.4418887,39.821728 L -0.44534996,39.824432 L -0.44534996,39.828033 L -0.4465037,39.828938 L -0.45342624,39.828938 L -0.45573375,39.830738 L -0.45804128,39.830738 L -0.46150255,39.83344 L -0.45458,39.838844 L -0.45458,39.84245 L -0.4568875,39.84425 L -0.4568875,39.84785 L -0.45919502,39.849655 L -0.4568875,39.851456 L -0.45804128,39.852356 L -0.46150255,39.849655 L -0.45919502,39.84785 L -0.45919502,39.840645 L -0.46034878,39.839745 L -0.4626563,39.839745 L -0.46727133,39.84335 L -0.47419387,39.84335 L -0.4753476,39.84425 L -0.4730401,39.84605 L -0.4753476,39.84785 L -0.4753476,39.853256 L -0.4730401,39.855057 L -0.47419387,39.85596 L -0.47880888,39.85596 L -0.47996265,39.855057 L -0.47996265,39.853256 L -0.48342392,39.850555 L -0.50188404,39.850555 L -0.5041915,39.852356 L -0.50649905,39.850555 L -0.5088065,39.852356 L -0.5099603,39.851456 L -0.5099603,39.849655 L -0.5122678,39.84785 L -0.51111406,39.84695 L -0.5088065,39.84875 L -0.5041915,39.84875 L -0.50188404,39.84695 L -0.4995765,39.84695 L -0.49611524,39.84425 L -0.49611524,39.84245 L -0.49380773,39.840645 L -0.49380773,39.83524 L -0.49611524,39.83344 L -0.49611524,39.83164 L -0.49496147,39.830738 L -0.49265397,39.830738 L -0.4915002,39.83164 L -0.4915002,39.83524 L -0.49034646,39.836143 L -0.4891927,39.83524 L -0.4891927,39.83344 L -0.48573142,39.830738 L -0.48342392,39.830738 L -0.47996265,39.828033 L -0.48227015,39.826233 L -0.48227015,39.824432 L -0.48573142,39.821728 L -0.48803893,39.821728 L -0.4891927,39.82263 L -0.4891927,39.824432 L -0.48803893,39.825333 L -0.48573142,39.825333 L -0.48457766,39.826233 L -0.48573142,39.827133 L -0.48803893,39.827133 L -0.4915002,39.824432 L -0.4915002,39.820827 L -0.49034646,39.819927 L -0.48342392,39.819927 L -0.48227015,39.819027 L -0.48342392,39.818127 L -0.49034646,39.818127 L -0.4915002,39.817226 L -0.49034646,39.816326 L -0.4811164,39.816326 L -0.47996265,39.817226 L -0.47996265,39.819027 L -0.47880888,39.819927 L -0.47765514,39.819027 L -0.47765514,39.81362 L -0.4753476,39.81182 L -0.4753476,39.81002 L -0.47188634,39.807316 L -0.46957883,39.807316 L -0.46842507,39.808216 L -0.4707326,39.81002 L -0.4707326,39.81182 L -0.4730401,39.81362 L -0.4730401,39.819027 L -0.4707326,39.820827 L -0.4707326,39.826233 L -0.46957883,39.827133 L -0.46727133,39.827133 L -0.46496382,39.825333 L -0.4626563,39.825333 L -0.4568875,39.820827 L -0.4568875,39.819027 L -0.45573375,39.818127 L -0.45342624,39.818127 L -0.4418887,39.80912 L -0.43958116,39.80912 L -0.43842742,39.808216 L -0.43842742,39.804615 L -0.43496615,39.801914 L -0.43265864,39.801914 L -0.43150488,39.80101 L -0.43150488,39.79921 L -0.42919737,39.79741 L -0.42919737,39.79561 L -0.4257361,39.792904 L -0.4234286,39.792904 L -0.42227483,39.792004 L -0.42227483,39.790203 L -0.42112106,39.789303 L -0.41881356,39.789303 L -0.40612224,39.779392 L -0.40612224,39.77759 L -0.40381473,39.77579 L -0.40381473,39.773987 L -0.3991997,39.770386 L -0.3991997,39.76318 L -0.42112106,39.746063 L -0.4280436,39.746063 L -0.42919737,39.745163 L -0.42919737,39.741558 L -0.42688984,39.739758 L -0.42688984,39.737957 L -0.42458233,39.736156 L -0.42458233,39.73255 L -0.42112106,39.72985 L -0.41650605,39.72985 L -0.41535228,39.72895 L -0.41535228,39.725346 L -0.41996732,39.721745 L -0.4176598,39.71994 L -0.4176598,39.714535 L -0.41650605,39.713634 L -0.41419852,39.71544 L -0.411891,39.71544 L -0.4095835,39.71724 L -0.407276,39.71724 L -0.40496847,39.71904 L -0.40266097,39.71724 L -0.39343092,39.71724 L -0.39227715,39.71634 L -0.3911234,39.715736 L -0.38881588,39.71544 L -0.38650838,39.71544 L -0.3853546,39.714535 L -0.38420087,39.713936 L -0.38189334,39.713634 L -0.37958583,39.713634 L -0.3784321,39.712734 L -0.3784321,39.709133 L -0.37612456,39.70733 L -0.3784321,39.70553 L -0.3784321,39.703728 L -0.38189334,39.701023 L -0.39343092,39.701023 L -0.39573842,39.699223 L -0.39804593,39.701023 L -0.40035346,39.699223 L -0.40266097,39.701023 L -0.40612224,39.698322 L -0.40496847,39.697422 L -0.40035346,39.697422 L -0.3991997,39.69652 L -0.40381473,39.692917 L -0.40381473,39.691116 L -0.40035346,39.688416 L -0.39804593,39.690216 L -0.39573842,39.690216 L -0.39343092,39.692017 L -0.39227715,39.691116 L -0.39227715,39.68751 L -0.38996965,39.68571 L -0.38996965,39.68391 L -0.3911234,39.68301 L -0.39343092,39.68301 L -0.39458466,39.68211 L -0.39343092,39.681206 L -0.3911234,39.681206 L -0.38996965,39.680305 L -0.38996965,39.678505 L -0.38881588,39.677605 L -0.38420087,39.677605 L -0.38189334,39.675804 L -0.37727833,39.675804 L -0.37381706,39.6731 L -0.37612456,39.6713 L -0.37381706,39.6695 L -0.37727833,39.666794 L -0.38420087,39.666794 L -0.38996965,39.662292 L -0.38996965,39.64968 L -0.40035346,39.641575 L -0.40266097,39.641575 L -0.40381473,39.642475 L -0.40381473,39.644276 L -0.4015072,39.646076 L -0.40381473,39.64788 L -0.40266097,39.64878 L -0.39804593,39.64878 L -0.3968922,39.64968 L -0.3968922,39.656887 L -0.3991997,39.658688 L -0.3991997,39.66049 L -0.40035346,39.661392 L -0.411891,39.661392 L -0.41419852,39.659588 L -0.41535228,39.66049 L -0.41535228,39.662292 L -0.4176598,39.664093 L -0.4176598,39.665894 L -0.41996732,39.667694 L -0.4176598,39.6695 L -0.4176598,39.6713 L -0.41881356,39.6722 L -0.42112106,39.6722 L -0.42227483,39.6731 L -0.42227483,39.674904 L -0.42458233,39.676704 L -0.42458233,39.68211 L -0.4280436,39.68481 L -0.42919737,39.68391 L -0.42919737,39.676704 L -0.4303511,39.675804 L -0.43496615,39.675804 L -0.43727365,39.674 L -0.43958116,39.674 L -0.4418887,39.6722 L -0.45342624,39.6722 L -0.4568875,39.6695 L -0.4568875,39.665894 L -0.46034878,39.663193 L -0.47650138,39.663193 L -0.47765514,39.664093 L -0.47765514,39.6695 L -0.47880888,39.6704 L -0.48457766,39.665894 L -0.48457766,39.655087 L -0.48227015,39.653282 L -0.48457766,39.65148 L -0.48227015,39.64968 L -0.48457766,39.64788 L -0.48227015,39.646076 L -0.48227015,39.642475 L -0.48342392,39.641575 L -0.48573142,39.641575 L -0.49496147,39.64878 L -0.49726897,39.64878 L -0.50188404,39.65238 L -0.5041915,39.65238 L -0.5076528,39.655087 L -0.5076528,39.66049 L -0.5122678,39.664093 L -0.5122678,39.667694 L -0.5099603,39.6695 L -0.5099603,39.6713 L -0.5076528,39.6731 L -0.5076528,39.676704 L -0.5088065,39.677605 L -0.51111406,39.677605 L -0.5122678,39.678505 L -0.5122678,39.680305 L -0.51457536,39.68211 L -0.51457536,39.689316 L -0.51572907,39.690216 L -0.5180366,39.690216 L -0.5238054,39.69472 L -0.5191904,39.698322 L -0.52149785,39.700123 L -0.52149785,39.701927 L -0.5191904,39.703728 L -0.52149785,39.70553 L -0.52149785,39.70733 L -0.5261129,39.710934 L -0.5261129,39.714535 L -0.5307279,39.71814 L -0.5261129,39.721745 L -0.5261129,39.723545 L -0.5238054,39.725346 L -0.5284204,39.72895 L -0.5284204,39.736156 L -0.52957416,39.737057 L -0.5307279,39.736156 L -0.5307279,39.73255 L -0.53534293,39.72895 L -0.53534293,39.725346 L -0.5364967,39.724445 L -0.53880423,39.724445 L -0.5422655,39.721745 L -0.539958,39.71994 L -0.5422655,39.71814 L -0.5422655,39.714535 L -0.544573,39.712734 L -0.544573,39.70733 L -0.5457268,39.70643 L -0.5549568,39.70643 L -0.5572643,39.708233 L -0.55957186,39.708233 L -0.56187934,39.70643 L -0.5641869,39.708233 L -0.56649435,39.708233 L -0.5676481,39.709133 L -0.5676481,39.71634 L -0.5688019,39.71724 L -0.5734169,39.71724 L -0.57457066,39.71634 L -0.57457066,39.710934 L -0.58033943,39.70643 L -0.5814932,39.70733 L -0.5814932,39.710934 L -0.5849545,39.713634 L -0.5987995,39.713634 L -0.5999533,39.714535 L -0.5987995,39.71544 L -0.5980304,39.71634 L -0.5987995,39.71724 L -0.6022608,39.71994 L -0.6034146,39.720543 L -0.60572207,39.720543 L -0.6080296,39.72084 L -0.61033714,39.720543 L -0.6126446,39.720543 L -0.6137984,39.71994 L -0.61956716,39.71544 L -0.6218747,39.715137 L -0.6264897,39.71874 L -0.6311047,39.71874 L -0.63341224,39.720543 L -0.6357198,39.71874 L -0.63802725,39.71874 L -0.639181,39.71814 L -0.6403348,39.71724 L -0.6449498,39.71724 L -0.6472573,39.71904 L -0.6541799,39.71904 L -0.65533364,39.71994 L -0.65533364,39.723545 L -0.6576411,39.725346 L -0.65802574,39.727146 L -0.65802574,39.72895 L -0.66264075,39.73255 L -0.66264075,39.734352 L -0.6649482,39.736156 L -0.6649482,39.737957 L -0.66725576,39.739758 L -0.66725576,39.743362 L -0.6695633,39.745163 L -0.67033243,39.746063 L -0.6714862,39.746964 L -0.67187077,39.748768 L -0.67263997,39.74967 L -0.6749475,39.74967 L -0.6761012,39.75057 L -0.6761012,39.75417 L -0.6795625,39.756874 L -0.68187,39.756874 L -0.6841775,39.758675 L -0.6887925,39.758675 L -0.6934076,39.755074 L -0.70033014,39.755074 L -0.70148385,39.755974 L -0.70148385,39.757774 L -0.6991764,39.759575 L -0.70033014,39.760475 L -0.7037914,39.757774 L -0.7037914,39.755974 L -0.70494515,39.755074 L -0.7072527,39.755074 L -0.7084064,39.75417 L -0.7084064,39.75237 L -0.7107139,39.75057 L -0.7107139,39.746964 L -0.7072527,39.744263 L -0.7026376,39.744263 L -0.70033014,39.742462 L -0.6980226,39.742462 L -0.69686884,39.741558 L -0.7060989,39.734352 L -0.7060989,39.72895 L -0.7084064,39.727146 L -0.70494515,39.724445 L -0.7026376,39.724445 L -0.70148385,39.723545 L -0.70494515,39.72084 L -0.7072527,39.72084 L -0.70956016,39.722645 L -0.71417516,39.722645 L -0.7164827,39.72084 L -0.71879023,39.72084 L -0.719944,39.721745 L -0.719944,39.723545 L -0.71763647,39.725346 L -0.71763647,39.73075 L -0.72340524,39.735256 L -0.72802025,39.735256 L -0.73148155,39.737957 L -0.7326353,39.738556 L -0.7349428,39.738857 L -0.7372503,39.738556 L -0.7384041,39.737957 L -0.74186534,39.735256 L -0.7441729,39.735256 L -0.74994165,39.73075 L -0.74994165,39.72895 L -0.7557104,39.724445 L -0.75801796,39.724144 L -0.76032543,39.724445 L -0.76263297,39.724445 L -0.7649405,39.724144 L -0.767248,39.724445 L -0.7695555,39.724144 L -0.7707093,39.723545 L -0.771863,39.722645 L -0.7741705,39.722645 L -0.77647805,39.724445 L -0.7834006,39.724445 L -0.78570807,39.726246 L -0.79032314,39.726246 L -0.7926306,39.728046 L -0.7972457,39.728046 L -0.79955316,39.726246 L -0.80416816,39.726246 L -0.80762947,39.72895 L -0.80762947,39.73075 L -0.809937,39.73255 L -0.809937,39.736156 L -0.8122445,39.737957 L -0.8122445,39.739758 L -0.8110907,39.740658 L -0.80532193,39.736156 L -0.80762947,39.734352 L -0.80416816,39.73165 L -0.80301446,39.73255 L -0.80301446,39.736156 L -0.8007069,39.737957 L -0.80532193,39.741558 L -0.80532193,39.743362 L -0.80416816,39.744263 L -0.8018607,39.744263 L -0.8007069,39.745163 L -0.8018607,39.746063 L -0.8157058,39.746063 L -0.81801325,39.744263 L -0.819167,39.745163 L -0.819167,39.746964 L -0.8168595,39.748768 L -0.81801325,39.74967 L -0.8203208,39.74967 L -0.82147455,39.75057 L -0.82147455,39.75237 L -0.8272433,39.756874 L -0.82955086,39.756874 L -0.83070457,39.755974 L -0.83070457,39.75417 L -0.83531964,39.75057 L -0.8330121,39.748768 L -0.8330121,39.746964 L -0.83070457,39.745163 L -0.83070457,39.743362 L -0.83185834,39.742462 L -0.8341659,39.742462 L -0.83647335,39.740658 L -0.8387809,39.740658 L -0.83993465,39.739758 L -0.8376271,39.737957 L -0.8376271,39.734352 L -0.83647335,39.73345 L -0.8341659,39.73345 L -0.8330121,39.73255 L -0.83993465,39.727146 L -0.83993465,39.725346 L -0.83647335,39.722645 L -0.8341659,39.722645 L -0.8330121,39.721745 L -0.8341659,39.72084 L -0.8410884,39.72084 L -0.8422422,39.71994 L -0.8422422,39.71814 L -0.84454966,39.71634 L -0.84454966,39.712734 L -0.8457034,39.711834 L -0.85262597,39.711834 L -0.8549335,39.710033 L -0.857241,39.710033 L -0.85839474,39.710934 L -0.85839474,39.712734 L -0.8595485,39.713634 L -0.8687785,39.713634 L -0.8722398,39.710934 L -0.8722398,39.709133 L -0.87685484,39.70553 L -0.87685484,39.701927 L -0.8780086,39.701023 L -0.8918537,39.701023 L -0.89416116,39.699223 L -0.8964687,39.701023 L -0.89877623,39.701023 L -0.9010837,39.702827 L -0.9126213,39.702827 L -0.9149288,39.701023 L -0.9172363,39.701023 L -0.9195438,39.702827 L -0.92185134,39.702827 L -0.9241589,39.704628 L -0.92646635,39.704628 L -0.9276201,39.70553 L -0.9276201,39.709133 L -0.9287739,39.710033 L -0.9310814,39.710033 L -0.9333889,39.711834 L -0.9356964,39.711834 L -0.9368502,39.712734 L -0.9368502,39.714535 L -0.94031143,39.71724 L -0.94261897,39.71544 L -0.9449265,39.71724 L -0.947234,39.71724 L -0.9495415,39.71904 L -0.951849,39.71904 L -0.95300275,39.71814 L -0.951849,39.71724 L -0.9495415,39.71724 L -0.947234,39.71544 L -0.9449265,39.71544 L -0.9414652,39.712734 L -0.9414652,39.710934 L -0.94031143,39.710033 L -0.93800396,39.708458 L -0.93915766,39.70733 L -0.93915766,39.70553 L -0.9356964,39.702827 L -0.92646635,39.702827 L -0.92531264,39.701927 L -0.92531264,39.69652 L -0.92992765,39.692917 L -0.92992765,39.691116 L -0.9302161,39.689316 L -0.9310814,39.686836 L -0.9322352,39.68571 L -0.9322352,39.68391 L -0.9310814,39.68301 L -0.92992765,39.68391 L -0.92992765,39.68571 L -0.9276201,39.68751 L -0.9276201,39.691116 L -0.92646635,39.692017 L -0.9241589,39.692017 L -0.92185134,39.693817 L -0.9149288,39.693817 L -0.9126213,39.69562 L -0.90339124,39.69562 L -0.9022375,39.69472 L -0.9022375,39.691116 L -0.89993,39.689316 L -0.89993,39.68751 L -0.904545,39.68391 L -0.904545,39.680305 L -0.90800625,39.677605 L -0.9126213,39.677605 L -0.913775,39.676704 L -0.9103138,39.674 L -0.90339124,39.674 L -0.9010837,39.675804 L -0.8964687,39.675804 L -0.89416116,39.674 L -0.89300746,39.674904 L -0.89762247,39.678505 L -0.89762247,39.68211 L -0.89300746,39.68571 L -0.89300746,39.689316 L -0.8918537,39.690216 L -0.88954616,39.690216 L -0.8883924,39.689316 L -0.8883924,39.68211 L -0.8872387,39.681206 L -0.8826236,39.681206 L -0.88146985,39.680305 L -0.88146985,39.678505 L -0.88031614,39.677605 L -0.87570107,39.677605 L -0.8733936,39.679405 L -0.87108606,39.679405 L -0.8687785,39.681206 L -0.861856,39.675804 L -0.8607023,39.676704 L -0.8607023,39.680305 L -0.8595485,39.681206 L -0.85031843,39.681206 L -0.84916466,39.680305 L -0.85377973,39.676704 L -0.85377973,39.674904 L -0.8549335,39.674 L -0.861856,39.674 L -0.8653173,39.6713 L -0.8653173,39.662292 L -0.8676248,39.66049 L -0.8653173,39.658688 L -0.8653173,39.656887 L -0.861856,39.654182 L -0.8607023,39.655087 L -0.86300975,39.656887 L -0.86300975,39.664093 L -0.8595485,39.666794 L -0.85262597,39.666794 L -0.8514722,39.665894 L -0.8514722,39.66049 L -0.85377973,39.658688 L -0.85262597,39.657787 L -0.8457034,39.663193 L -0.84454966,39.662292 L -0.84454966,39.66049 L -0.8433959,39.659588 L -0.8410884,39.659588 L -0.8387809,39.661392 L -0.8376271,39.66049 L -0.8376271,39.656887 L -0.83531964,39.655087 L -0.83993465,39.65148 L -0.83993465,39.64968 L -0.8422422,39.64788 L -0.8422422,39.644276 L -0.84801096,39.63977 L -0.85031843,39.63977 L -0.8514722,39.63887 L -0.8514722,39.63707 L -0.85031843,39.63617 L -0.84801096,39.63617 L -0.8457034,39.63797 L -0.8433959,39.63797 L -0.8410884,39.63977 L -0.8387809,39.63977 L -0.83531964,39.642475 L -0.83531964,39.644276 L -0.8272433,39.65058 L -0.8249358,39.65058 L -0.819167,39.646076 L -0.819167,39.644276 L -0.809937,39.63707 L -0.809937,39.63527 L -0.80532193,39.631664 L -0.80532193,39.629864 L -0.8018607,39.62716 L -0.8007069,39.628063 L -0.80301446,39.629864 L -0.80301446,39.63887 L -0.80762947,39.642475 L -0.80532193,39.644276 L -0.80532193,39.646076 L -0.80416816,39.646976 L -0.79955316,39.646976 L -0.79493815,39.643375 L -0.7926306,39.643375 L -0.78686184,39.63887 L -0.78686184,39.63707 L -0.7891694,39.63527 L -0.7891694,39.633465 L -0.78686184,39.631664 L -0.78686184,39.629864 L -0.7960919,39.622658 L -0.7960919,39.619053 L -0.7937844,39.617252 L -0.7937844,39.613647 L -0.7926306,39.612747 L -0.7880156,39.612747 L -0.78686184,39.613647 L -0.78686184,39.61545 L -0.7891694,39.617252 L -0.7891694,39.620853 L -0.7880156,39.621758 L -0.78570807,39.621758 L -0.7834006,39.623558 L -0.78109306,39.623558 L -0.77647805,39.62716 L -0.7753243,39.62626 L -0.7753243,39.62446 L -0.77301675,39.622658 L -0.77301675,39.619053 L -0.7753243,39.617252 L -0.77301675,39.61545 L -0.77301675,39.613647 L -0.7753243,39.611847 L -0.7741705,39.610947 L -0.767248,39.610947 L -0.7649405,39.612747 L -0.7557104,39.612747 L -0.75455666,39.613647 L -0.7557104,39.61455 L -0.75801796,39.61455 L -0.75917166,39.61545 L -0.7568642,39.617252 L -0.7568642,39.62446 L -0.75455666,39.62626 L -0.75455666,39.629864 L -0.7487879,39.63437 L -0.74648035,39.63437 L -0.74532664,39.633465 L -0.74532664,39.631664 L -0.7430191,39.629864 L -0.7430191,39.628063 L -0.74532664,39.62626 L -0.74532664,39.622658 L -0.74071157,39.619053 L -0.74071157,39.617252 L -0.73955786,39.616352 L -0.7349428,39.616352 L -0.73148155,39.613647 L -0.73148155,39.611847 L -0.7326353,39.610947 L -0.7372503,39.610947 L -0.73955786,39.612747 L -0.74071157,39.611847 L -0.73609656,39.608246 L -0.73609656,39.60644 L -0.7372503,39.60554 L -0.74186534,39.609146 L -0.7430191,39.608246 L -0.74071157,39.60644 L -0.74071157,39.60104 L -0.7430191,39.599236 L -0.74186534,39.598335 L -0.73955786,39.598335 L -0.7384041,39.597435 L -0.73955786,39.596535 L -0.74186534,39.596535 L -0.7430191,39.595634 L -0.74186534,39.594734 L -0.7349428,39.594734 L -0.733789,39.59383 L -0.73609656,39.59203 L -0.73609656,39.59023 L -0.74071157,39.586624 L -0.73955786,39.585724 L -0.7372503,39.585724 L -0.733789,39.58843 L -0.733789,39.59023 L -0.73148155,39.59203 L -0.73148155,39.59383 L -0.7303278,39.594734 L -0.729174,39.59383 L -0.729174,39.59203 L -0.72802025,39.59113 L -0.7257128,39.59113 L -0.724559,39.59023 L -0.724559,39.58843 L -0.7222515,39.586624 L -0.7222515,39.584824 L -0.719944,39.583023 L -0.719944,39.577618 L -0.7222515,39.575817 L -0.7222515,39.57041 L -0.7210977,39.56951 L -0.71879023,39.571312 L -0.71763647,39.57041 L -0.71763647,39.565006 L -0.7107139,39.5596 L -0.7107139,39.5578 L -0.7084064,39.556 L -0.7084064,39.5542 L -0.7118677,39.551495 L -0.71417516,39.551495 L -0.71532893,39.550594 L -0.71532893,39.54699 L -0.71302146,39.54519 L -0.71302146,39.54339 L -0.7118677,39.54249 L -0.70956016,39.54249 L -0.7084064,39.541588 L -0.70956016,39.540688 L -0.7118677,39.540688 L -0.71417516,39.538883 L -0.7210977,39.538883 L -0.7257128,39.535282 L -0.72802025,39.535282 L -0.729174,39.536182 L -0.729174,39.54519 L -0.7303278,39.54609 L -0.73148155,39.54519 L -0.73148155,39.54339 L -0.733789,39.541588 L -0.733789,39.539783 L -0.7372503,39.537083 L -0.73955786,39.537083 L -0.74532664,39.532578 L -0.74532664,39.530777 L -0.74648035,39.529877 L -0.7487879,39.529877 L -0.74994165,39.528976 L -0.74994165,39.527176 L -0.7534029,39.52447 L -0.75455666,39.52537 L -0.75455666,39.527176 L -0.76378673,39.53438 L -0.76378673,39.536182 L -0.7649405,39.537083 L -0.7695555,39.537083 L -0.771863,39.538883 L -0.77301675,39.537983 L -0.77301675,39.53438 L -0.7707093,39.532578 L -0.7707093,39.530777 L -0.76840174,39.528976 L -0.76840174,39.518166 L -0.7660942,39.516365 L -0.7660942,39.51096 L -0.7614792,39.50736 L -0.76263297,39.506454 L -0.7634021,39.505554 L -0.7634021,39.50015 L -0.76570964,39.49835 L -0.7649405,39.497448 L -0.76378673,39.496548 L -0.7649405,39.495647 L -0.767248,39.495346 L -0.7695555,39.495346 L -0.771863,39.493546 L -0.7741705,39.493847 L -0.77647805,39.493546 L -0.7787855,39.493546 L -0.7799393,39.492943 L -0.7834006,39.490242 L -0.78570807,39.48994 L -0.78686184,39.48934 L -0.7880156,39.48844 L -0.79493815,39.48844 L -0.7972457,39.486637 L -0.79955316,39.486637 L -0.80301446,39.483936 L -0.80301446,39.47673 L -0.7983994,39.473125 L -0.7972457,39.472527 L -0.79493815,39.472225 L -0.7834006,39.472225 L -0.78109306,39.472527 L -0.7799393,39.473125 L -0.7787855,39.47403 L -0.77647805,39.47403 L -0.7741705,39.474327 L -0.77301675,39.47493 L -0.771863,39.47583 L -0.7695555,39.47613 L -0.76840174,39.47673 L -0.767248,39.47763 L -0.7649405,39.47763 L -0.76378673,39.47673 L -0.76263297,39.47613 L -0.75801796,39.47613 L -0.7557104,39.47583 L -0.7534029,39.47583 L -0.7510954,39.47613 L -0.7487879,39.47583 L -0.7476341,39.47493 L -0.74724954,39.473125 L -0.7495571,39.471325 L -0.74724954,39.469524 L -0.74724954,39.46592 L -0.74648035,39.46502 L -0.74532664,39.46412 L -0.7510954,39.459614 L -0.7534029,39.459316 L -0.7557104,39.459614 L -0.75801796,39.459316 L -0.76032543,39.459316 L -0.7614792,39.458714 L -0.76263297,39.457813 L -0.76378673,39.458714 L -0.7649405,39.459316 L -0.767248,39.45751 L -0.771863,39.45751 L -0.7726322,39.456913 L -0.77301675,39.455112 L -0.7707093,39.453312 L -0.7707093,39.451508 L -0.76840174,39.449707 L -0.76840174,39.447906 L -0.76378673,39.4443 L -0.7695555,39.439796 L -0.7741705,39.439796 L -0.7799393,39.4443 L -0.7799393,39.447906 L -0.7822468,39.449707 L -0.7822468,39.455112 L -0.7826314,39.456913 L -0.7826314,39.460518 L -0.79032314,39.466522 L -0.79493815,39.466522 L -0.7972457,39.466824 L -0.79955316,39.466824 L -0.8018607,39.466522 L -0.80416816,39.466522 L -0.80532193,39.46592 L -0.809937,39.46232 L -0.809937,39.460518 L -0.8110907,39.459614 L -0.8118599,39.458714 L -0.8122445,39.456913 L -0.8122445,39.455112 L -0.8118599,39.453312 L -0.8110907,39.452408 L -0.809937,39.451508 L -0.809937,39.449707 L -0.80878323,39.448807 L -0.8064757,39.448807 L -0.80532193,39.447906 L -0.80493736,39.446102 L -0.80493736,39.4443 L -0.80416816,39.4434 L -0.80301446,39.4425 L -0.80416816,39.4416 L -0.8064757,39.4413 L -0.80878323,39.4431 L -0.8110907,39.4413 L -0.8149366,39.4443 L -0.8157058,39.4452 L -0.82147455,39.449707 L -0.8226283,39.450306 L -0.8249358,39.450306 L -0.8272433,39.450607 L -0.8283971,39.451508 L -0.82878166,39.453312 L -0.82955086,39.454212 L -0.83647335,39.459614 L -0.8387809,39.457813 L -0.83993465,39.458714 L -0.83993465,39.46232 L -0.8433959,39.46502 L -0.8457034,39.46502 L -0.84801096,39.466824 L -0.85031843,39.46502 L -0.85262597,39.46502 L -0.85377973,39.46412 L -0.85377973,39.460518 L -0.8549335,39.459614 L -0.8560872,39.460518 L -0.8560872,39.46412 L -0.85839474,39.46592 L -0.8595485,39.466522 L -0.861856,39.466522 L -0.8641635,39.468323 L -0.86647105,39.468323 L -0.8676248,39.467724 L -0.8687785,39.466824 L -0.8722398,39.469524 L -0.8733936,39.470123 L -0.8780086,39.470123 L -0.88031614,39.470425 L -0.8826236,39.470123 L -0.88493115,39.470123 L -0.8860849,39.469524 L -0.8872387,39.468624 L -0.88954616,39.468624 L -0.8906999,39.469524 L -0.8906999,39.473125 L -0.8964687,39.47763 L -0.89877623,39.47763 L -0.9010837,39.47943 L -0.90339124,39.47943 L -0.904545,39.480335 L -0.904545,39.483936 L -0.9010837,39.486637 L -0.89877623,39.486637 L -0.89531493,39.48934 L -0.89531493,39.491142 L -0.89300746,39.492943 L -0.89300746,39.49835 L -0.89416116,39.49925 L -0.8964687,39.49925 L -0.89762247,39.49835 L -0.89762247,39.494747 L -0.89877623,39.493847 L -0.90339124,39.493847 L -0.9056988,39.495647 L -0.92185134,39.495647 L -0.9241589,39.497448 L -0.92646635,39.497448 L -0.9287739,39.49925 L -0.9310814,39.49925 L -0.9356964,39.502853 L -0.93800396,39.502853 L -0.9414652,39.505554 L -0.9414652,39.50916 L -0.94261897,39.51006 L -0.9449265,39.51006 L -0.9460802,39.50916 L -0.94377273,39.50736 L -0.94377273,39.501953 L -0.9460802,39.50015 L -0.9449265,39.49925 L -0.94261897,39.501053 L -0.94031143,39.501053 L -0.9322352,39.494747 L -0.9322352,39.492943 L -0.93454266,39.491142 L -0.9322352,39.48934 L -0.9322352,39.483936 L -0.92992765,39.482136 L -0.92992765,39.480335 L -0.9333889,39.47763 L -0.9356964,39.47943 L -0.94031143,39.47943 L -0.9414652,39.47853 L -0.9414652,39.47673 L -0.93915766,39.47493 L -0.93915766,39.473125 L -0.9449265,39.468624 L -0.947234,39.468624 L -0.9495415,39.466824 L -0.951849,39.466824 L -0.9541565,39.46502 L -0.97492415,39.46502 L -0.9772316,39.46322 L -0.97953916,39.46322 L -0.9806929,39.46232 L -0.9772316,39.459614 L -0.97492415,39.459614 L -0.97030914,39.456013 L -0.9633866,39.456013 L -0.95646405,39.450607 L -0.9541565,39.450607 L -0.9495415,39.447006 L -0.947234,39.447006 z\" /><path fill-rule=\"evenodd\" fill=\"#ff3333\" stroke=\"#555555\" stroke-width=\"0.022578550847999996\" opacity=\"0.6\" d=\"M -0.37179798,39.292973 L -0.37035578,39.291843 L -0.36718297,39.29117 L -0.36574075,39.290043 L -0.36429855,39.29117 L -0.36574075,39.292294 L -0.36574075,39.293648 L -0.36429855,39.294773 L -0.36574075,39.2959 L -0.36718297,39.294773 L -0.37035578,39.294098 L -0.37179798,39.292973 z\" /><path fill-rule=\"evenodd\" fill=\"#ff3333\" stroke=\"#555555\" stroke-width=\"0.022578550847999996\" opacity=\"0.6\" d=\"M -0.18113974,39.955044 L -0.1926773,39.955044 L -0.19383106,39.954144 L -0.19383106,39.950542 L -0.1926773,39.949642 L -0.19152354,39.950542 L -0.19152354,39.952343 L -0.19036978,39.953243 L -0.18806228,39.953243 L -0.18460101,39.950542 L -0.18575476,39.949642 L -0.18806228,39.949642 L -0.18921603,39.94874 L -0.18806228,39.947838 L -0.17883222,39.947838 L -0.17652471,39.946037 L -0.16960217,39.946037 L -0.16844842,39.946938 L -0.1661409,39.94874 L -0.16729467,39.949642 L -0.16960217,39.949642 L -0.17075592,39.950542 L -0.17075592,39.952343 L -0.17190969,39.953243 L -0.17883222,39.953243 L -0.18113974,39.955044 z\" /><path fill-rule=\"evenodd\" fill=\"#ff3333\" stroke=\"#555555\" stroke-width=\"0.022578550847999996\" opacity=\"0.6\" d=\"M -0.15114208,39.77106 L -0.14969988,39.772186 L -0.15114208,39.77331 L -0.15344958,39.77331 L -0.15489177,39.772186 L -0.1580646,39.77151 L -0.1595068,39.770386 L -0.16037212,39.767906 L -0.16181432,39.76678 L -0.16267963,39.764305 L -0.16412184,39.76318 L -0.16498715,39.7607 L -0.16642934,39.759575 L -0.16642934,39.757774 L -0.16498715,39.75665 L -0.15892993,39.761375 L -0.1580646,39.763855 L -0.15200739,39.768585 L -0.15114208,39.77106 z\" /><path fill-rule=\"evenodd\" fill=\"#ff3333\" stroke=\"#555555\" stroke-width=\"0.022578550847999996\" opacity=\"0.6\" d=\"M -0.60456836,38.990307 L -0.6034146,38.989407 L -0.6022608,38.988506 L -0.6022608,38.9795 L -0.60110706,38.9786 L -0.5999533,38.9795 L -0.5999533,38.988506 L -0.6034146,38.99121 L -0.60456836,38.990307 z\" /><path fill-rule=\"evenodd\" fill=\"#ff3333\" stroke=\"#555555\" stroke-width=\"0.022578550847999996\" opacity=\"0.6\" d=\"M -0.587262,39.01283 L -0.5849545,39.01283 L -0.58380073,39.01193 L -0.58380073,39.010124 L -0.58264697,39.009224 L -0.58033943,39.009224 L -0.57803196,39.007423 L -0.5757244,39.009224 L -0.5734169,39.009224 L -0.5722632,39.008324 L -0.5722632,39.004723 L -0.5711094,39.00382 L -0.56187934,39.00382 L -0.5584181,39.006523 L -0.56072557,39.008324 L -0.56072557,39.010124 L -0.5584181,39.01193 L -0.5584181,39.01373 L -0.5572643,39.01463 L -0.5549568,39.01463 L -0.5526493,39.01643 L -0.54803425,39.01643 L -0.5457268,39.01463 L -0.5411117,39.01463 L -0.53880423,39.01283 L -0.5364967,39.01283 L -0.53534293,39.01193 L -0.53534293,39.004723 L -0.53765047,39.00292 L -0.5364967,39.002018 L -0.5318817,39.002018 L -0.5272667,38.998417 L -0.5261129,38.999317 L -0.5261129,39.00292 L -0.5272667,39.00382 L -0.52957416,39.00382 L -0.5307279,39.004723 L -0.5284204,39.006523 L -0.5307279,39.008324 L -0.5307279,39.01193 L -0.53303546,39.01373 L -0.5307279,39.01553 L -0.53303546,39.01733 L -0.53303546,39.019135 L -0.5341892,39.020035 L -0.54341924,39.020035 L -0.5457268,39.021835 L -0.5503418,39.021835 L -0.5526493,39.023636 L -0.5549568,39.023636 L -0.5584181,39.020935 L -0.5584181,39.01553 L -0.5641869,39.01103 L -0.56649435,39.01103 L -0.5711094,39.01463 L -0.5734169,39.01463 L -0.57457066,39.01553 L -0.57457066,39.01733 L -0.5757244,39.018234 L -0.57803196,39.01643 L -0.57918566,39.01733 L -0.57918566,39.019135 L -0.58033943,39.020035 L -0.5849545,39.020035 L -0.5861082,39.020935 L -0.5861082,39.022736 L -0.58380073,39.02454 L -0.58380073,39.02634 L -0.5849545,39.02724 L -0.5861082,39.02634 L -0.5861082,39.02454 L -0.58841574,39.022736 L -0.58841574,39.019135 L -0.587262,39.018234 L -0.58264697,39.018234 L -0.5814932,39.01733 L -0.58264697,39.01643 L -0.5849545,39.01643 L -0.58841574,39.01373 L -0.587262,39.01283 z\" /><path fill-rule=\"evenodd\" fill=\"#ff3333\" stroke=\"#555555\" stroke-width=\"0.022578550847999996\" opacity=\"0.6\" d=\"M -0.35737604,39.413677 L -0.35881823,39.414803 L -0.36026043,39.413677 L -0.36256793,39.411873 L -0.36429855,39.411873 L -0.36574075,39.413 L -0.36718297,39.411873 L -0.36343324,39.408947 L -0.35881823,39.408947 L -0.35737604,39.410072 L -0.35737604,39.413677 z\" /><path fill-rule=\"evenodd\" fill=\"#ff3333\" stroke=\"#555555\" stroke-width=\"0.022578550847999996\" opacity=\"0.6\" d=\"M -0.3158408,39.309185 L -0.3158408,39.31819 L -0.31497547,39.32067 L -0.31353328,39.321796 L -0.317283,39.324722 L -0.3187252,39.323597 L -0.3187252,39.31819 L -0.3195905,39.315716 L -0.3210327,39.31459 L -0.3210327,39.310986 L -0.3195905,39.30986 L -0.3195905,39.30851 L -0.3210327,39.307384 L -0.3195905,39.30626 L -0.3187252,39.30558 L -0.3187252,39.30378 L -0.317283,39.302654 L -0.3158408,39.30378 L -0.3158408,39.30558 L -0.317283,39.30671 L -0.317283,39.30806 L -0.3158408,39.309185 z\" /><path fill-rule=\"evenodd\" fill=\"#ff3333\" stroke=\"#555555\" stroke-width=\"0.022578550847999996\" opacity=\"0.6\" d=\"M -0.32045582,39.30018 L -0.32045582,39.30198 L -0.321898,39.303104 L -0.32795525,39.298374 L -0.32651305,39.29725 L -0.32420552,39.29725 L -0.32045582,39.30018 z\" /></g></g></svg>"
      ],
      "text/plain": [
       "<shapely.geometry.multipolygon.MultiPolygon at 0x13224ee20>"
      ]
     },
     "execution_count": 35,
     "metadata": {},
     "output_type": "execute_result"
    }
   ],
   "source": [
    "df[df['mode']=='driving'].loc[112,'geom']"
   ]
  },
  {
   "cell_type": "code",
   "execution_count": 45,
   "id": "bf482f8a",
   "metadata": {},
   "outputs": [],
   "source": [
    "from google.cloud import bigquery\n",
    "from datetime import datetime\n",
    "client = bigquery.Client()"
   ]
  },
  {
   "cell_type": "code",
   "execution_count": 50,
   "id": "ab768c1e",
   "metadata": {},
   "outputs": [
    {
     "ename": "BadRequest",
     "evalue": "400 Query exceeded resource limits. This query used 9789 CPU seconds but would charge only 20M Analysis bytes. This exceeds the ratio supported by the on-demand pricing model. Please consider moving this workload to the flat-rate reservation pricing model, which does not have this limit. 9789 CPU seconds were used, and this query must use less than 5100 CPU seconds.\n\nLocation: US\nJob ID: 1e8d8cc1-01ce-407e-8abb-b44c8f30b5c0\n",
     "output_type": "error",
     "traceback": [
      "\u001b[0;31m---------------------------------------------------------------------------\u001b[0m",
      "\u001b[0;31mBadRequest\u001b[0m                                Traceback (most recent call last)",
      "Input \u001b[0;32mIn [50]\u001b[0m, in \u001b[0;36m<cell line: 1>\u001b[0;34m()\u001b[0m\n\u001b[0;32m----> 1\u001b[0m _ranges \u001b[38;5;241m=\u001b[39m \u001b[43mclient\u001b[49m\u001b[38;5;241;43m.\u001b[39;49m\u001b[43mquery\u001b[49m\u001b[43m(\u001b[49m\u001b[38;5;124;43m'''\u001b[39;49m\n\u001b[1;32m      2\u001b[0m \u001b[38;5;124;43m  select \u001b[39;49m\n\u001b[1;32m      3\u001b[0m \u001b[38;5;124;43m    mode, \u001b[39;49m\n\u001b[1;32m      4\u001b[0m \u001b[38;5;124;43m    _range,\u001b[39;49m\n\u001b[1;32m      5\u001b[0m \u001b[38;5;124;43m    st_intersection(r.geom, st_boundary(i.geom)) as geom\u001b[39;49m\n\u001b[1;32m      6\u001b[0m \u001b[38;5;124;43m  from `cartodb-gcp-solutions-eng-team.accesibility.valencia_roads` r\u001b[39;49m\n\u001b[1;32m      7\u001b[0m \u001b[38;5;124;43m  join`cartodb-gcp-solutions-eng-team.accesibility.isolines` i\u001b[39;49m\n\u001b[1;32m      8\u001b[0m \u001b[38;5;124;43m  on st_intersects(r.geom, i.geom)\u001b[39;49m\n\u001b[1;32m      9\u001b[0m \u001b[38;5;124;43m  where not st_isempty(st_intersection(r.geom, st_boundary(i.geom)))\u001b[39;49m\n\u001b[1;32m     10\u001b[0m \u001b[38;5;124;43m  and (\u001b[39;49m\n\u001b[1;32m     11\u001b[0m \u001b[38;5;124;43m    (mode=\u001b[39;49m\u001b[38;5;124;43m'\u001b[39;49m\u001b[38;5;124;43mdriving\u001b[39;49m\u001b[38;5;124;43m'\u001b[39;49m\u001b[38;5;124;43m and _range <= 40*60 ) or\u001b[39;49m\n\u001b[1;32m     12\u001b[0m \u001b[38;5;124;43m    (mode = \u001b[39;49m\u001b[38;5;124;43m'\u001b[39;49m\u001b[38;5;124;43mcycling\u001b[39;49m\u001b[38;5;124;43m'\u001b[39;49m\u001b[38;5;124;43m and _range <=45*60) or\u001b[39;49m\n\u001b[1;32m     13\u001b[0m \u001b[38;5;124;43m    (mode=\u001b[39;49m\u001b[38;5;124;43m'\u001b[39;49m\u001b[38;5;124;43mpublic_transport\u001b[39;49m\u001b[38;5;124;43m'\u001b[39;49m\u001b[38;5;124;43m and _range <= 60*60)\u001b[39;49m\n\u001b[1;32m     14\u001b[0m \u001b[38;5;124;43m  )\u001b[39;49m\n\u001b[1;32m     15\u001b[0m \u001b[38;5;124;43m  -- and _range < 10 * 60\u001b[39;49m\n\u001b[1;32m     16\u001b[0m \u001b[38;5;124;43m  -- group by mode, _range\u001b[39;49m\n\u001b[1;32m     17\u001b[0m \u001b[38;5;124;43m'''\u001b[39;49m\u001b[43m)\u001b[49m\u001b[38;5;241;43m.\u001b[39;49m\u001b[43mto_geodataframe\u001b[49m\u001b[43m(\u001b[49m\u001b[43m)\u001b[49m\n",
      "File \u001b[0;32m~/miniconda3/lib/python3.9/site-packages/google/cloud/bigquery/job/query.py:1769\u001b[0m, in \u001b[0;36mQueryJob.to_geodataframe\u001b[0;34m(self, bqstorage_client, dtypes, progress_bar_type, create_bqstorage_client, max_results, geography_column)\u001b[0m\n\u001b[1;32m   1695\u001b[0m \u001b[38;5;28;01mdef\u001b[39;00m \u001b[38;5;21mto_geodataframe\u001b[39m(\n\u001b[1;32m   1696\u001b[0m     \u001b[38;5;28mself\u001b[39m,\n\u001b[1;32m   1697\u001b[0m     bqstorage_client: \u001b[38;5;124m\"\u001b[39m\u001b[38;5;124mbigquery_storage.BigQueryReadClient\u001b[39m\u001b[38;5;124m\"\u001b[39m \u001b[38;5;241m=\u001b[39m \u001b[38;5;28;01mNone\u001b[39;00m,\n\u001b[0;32m   (...)\u001b[0m\n\u001b[1;32m   1702\u001b[0m     geography_column: Optional[\u001b[38;5;28mstr\u001b[39m] \u001b[38;5;241m=\u001b[39m \u001b[38;5;28;01mNone\u001b[39;00m,\n\u001b[1;32m   1703\u001b[0m ) \u001b[38;5;241m-\u001b[39m\u001b[38;5;241m>\u001b[39m \u001b[38;5;124m\"\u001b[39m\u001b[38;5;124mgeopandas.GeoDataFrame\u001b[39m\u001b[38;5;124m\"\u001b[39m:\n\u001b[1;32m   1704\u001b[0m     \u001b[38;5;124;03m\"\"\"Return a GeoPandas GeoDataFrame from a QueryJob\u001b[39;00m\n\u001b[1;32m   1705\u001b[0m \n\u001b[1;32m   1706\u001b[0m \u001b[38;5;124;03m    Args:\u001b[39;00m\n\u001b[0;32m   (...)\u001b[0m\n\u001b[1;32m   1767\u001b[0m \u001b[38;5;124;03m    .. versionadded:: 2.24.0\u001b[39;00m\n\u001b[1;32m   1768\u001b[0m \u001b[38;5;124;03m    \"\"\"\u001b[39;00m\n\u001b[0;32m-> 1769\u001b[0m     query_result \u001b[38;5;241m=\u001b[39m \u001b[43mwait_for_query\u001b[49m\u001b[43m(\u001b[49m\u001b[38;5;28;43mself\u001b[39;49m\u001b[43m,\u001b[49m\u001b[43m \u001b[49m\u001b[43mprogress_bar_type\u001b[49m\u001b[43m,\u001b[49m\u001b[43m \u001b[49m\u001b[43mmax_results\u001b[49m\u001b[38;5;241;43m=\u001b[39;49m\u001b[43mmax_results\u001b[49m\u001b[43m)\u001b[49m\n\u001b[1;32m   1770\u001b[0m     \u001b[38;5;28;01mreturn\u001b[39;00m query_result\u001b[38;5;241m.\u001b[39mto_geodataframe(\n\u001b[1;32m   1771\u001b[0m         bqstorage_client\u001b[38;5;241m=\u001b[39mbqstorage_client,\n\u001b[1;32m   1772\u001b[0m         dtypes\u001b[38;5;241m=\u001b[39mdtypes,\n\u001b[0;32m   (...)\u001b[0m\n\u001b[1;32m   1775\u001b[0m         geography_column\u001b[38;5;241m=\u001b[39mgeography_column,\n\u001b[1;32m   1776\u001b[0m     )\n",
      "File \u001b[0;32m~/miniconda3/lib/python3.9/site-packages/google/cloud/bigquery/_tqdm_helpers.py:89\u001b[0m, in \u001b[0;36mwait_for_query\u001b[0;34m(query_job, progress_bar_type, max_results)\u001b[0m\n\u001b[1;32m     85\u001b[0m progress_bar \u001b[38;5;241m=\u001b[39m get_progress_bar(\n\u001b[1;32m     86\u001b[0m     progress_bar_type, \u001b[38;5;124m\"\u001b[39m\u001b[38;5;124mQuery is running\u001b[39m\u001b[38;5;124m\"\u001b[39m, default_total, \u001b[38;5;124m\"\u001b[39m\u001b[38;5;124mquery\u001b[39m\u001b[38;5;124m\"\u001b[39m\n\u001b[1;32m     87\u001b[0m )\n\u001b[1;32m     88\u001b[0m \u001b[38;5;28;01mif\u001b[39;00m progress_bar \u001b[38;5;129;01mis\u001b[39;00m \u001b[38;5;28;01mNone\u001b[39;00m:\n\u001b[0;32m---> 89\u001b[0m     \u001b[38;5;28;01mreturn\u001b[39;00m \u001b[43mquery_job\u001b[49m\u001b[38;5;241;43m.\u001b[39;49m\u001b[43mresult\u001b[49m\u001b[43m(\u001b[49m\u001b[43mmax_results\u001b[49m\u001b[38;5;241;43m=\u001b[39;49m\u001b[43mmax_results\u001b[49m\u001b[43m)\u001b[49m\n\u001b[1;32m     91\u001b[0m i \u001b[38;5;241m=\u001b[39m \u001b[38;5;241m0\u001b[39m\n\u001b[1;32m     92\u001b[0m \u001b[38;5;28;01mwhile\u001b[39;00m \u001b[38;5;28;01mTrue\u001b[39;00m:\n",
      "File \u001b[0;32m~/miniconda3/lib/python3.9/site-packages/google/cloud/bigquery/job/query.py:1499\u001b[0m, in \u001b[0;36mQueryJob.result\u001b[0;34m(self, page_size, max_results, retry, timeout, start_index, job_retry)\u001b[0m\n\u001b[1;32m   1496\u001b[0m     \u001b[38;5;28;01mif\u001b[39;00m retry_do_query \u001b[38;5;129;01mis\u001b[39;00m \u001b[38;5;129;01mnot\u001b[39;00m \u001b[38;5;28;01mNone\u001b[39;00m \u001b[38;5;129;01mand\u001b[39;00m job_retry \u001b[38;5;129;01mis\u001b[39;00m \u001b[38;5;129;01mnot\u001b[39;00m \u001b[38;5;28;01mNone\u001b[39;00m:\n\u001b[1;32m   1497\u001b[0m         do_get_result \u001b[38;5;241m=\u001b[39m job_retry(do_get_result)\n\u001b[0;32m-> 1499\u001b[0m     \u001b[43mdo_get_result\u001b[49m\u001b[43m(\u001b[49m\u001b[43m)\u001b[49m\n\u001b[1;32m   1501\u001b[0m \u001b[38;5;28;01mexcept\u001b[39;00m exceptions\u001b[38;5;241m.\u001b[39mGoogleAPICallError \u001b[38;5;28;01mas\u001b[39;00m exc:\n\u001b[1;32m   1502\u001b[0m     exc\u001b[38;5;241m.\u001b[39mmessage \u001b[38;5;241m=\u001b[39m _EXCEPTION_FOOTER_TEMPLATE\u001b[38;5;241m.\u001b[39mformat(\n\u001b[1;32m   1503\u001b[0m         message\u001b[38;5;241m=\u001b[39mexc\u001b[38;5;241m.\u001b[39mmessage, location\u001b[38;5;241m=\u001b[39m\u001b[38;5;28mself\u001b[39m\u001b[38;5;241m.\u001b[39mlocation, job_id\u001b[38;5;241m=\u001b[39m\u001b[38;5;28mself\u001b[39m\u001b[38;5;241m.\u001b[39mjob_id\n\u001b[1;32m   1504\u001b[0m     )\n",
      "File \u001b[0;32m~/miniconda3/lib/python3.9/site-packages/google/api_core/retry.py:349\u001b[0m, in \u001b[0;36mRetry.__call__.<locals>.retry_wrapped_func\u001b[0;34m(*args, **kwargs)\u001b[0m\n\u001b[1;32m    345\u001b[0m target \u001b[38;5;241m=\u001b[39m functools\u001b[38;5;241m.\u001b[39mpartial(func, \u001b[38;5;241m*\u001b[39margs, \u001b[38;5;241m*\u001b[39m\u001b[38;5;241m*\u001b[39mkwargs)\n\u001b[1;32m    346\u001b[0m sleep_generator \u001b[38;5;241m=\u001b[39m exponential_sleep_generator(\n\u001b[1;32m    347\u001b[0m     \u001b[38;5;28mself\u001b[39m\u001b[38;5;241m.\u001b[39m_initial, \u001b[38;5;28mself\u001b[39m\u001b[38;5;241m.\u001b[39m_maximum, multiplier\u001b[38;5;241m=\u001b[39m\u001b[38;5;28mself\u001b[39m\u001b[38;5;241m.\u001b[39m_multiplier\n\u001b[1;32m    348\u001b[0m )\n\u001b[0;32m--> 349\u001b[0m \u001b[38;5;28;01mreturn\u001b[39;00m \u001b[43mretry_target\u001b[49m\u001b[43m(\u001b[49m\n\u001b[1;32m    350\u001b[0m \u001b[43m    \u001b[49m\u001b[43mtarget\u001b[49m\u001b[43m,\u001b[49m\n\u001b[1;32m    351\u001b[0m \u001b[43m    \u001b[49m\u001b[38;5;28;43mself\u001b[39;49m\u001b[38;5;241;43m.\u001b[39;49m\u001b[43m_predicate\u001b[49m\u001b[43m,\u001b[49m\n\u001b[1;32m    352\u001b[0m \u001b[43m    \u001b[49m\u001b[43msleep_generator\u001b[49m\u001b[43m,\u001b[49m\n\u001b[1;32m    353\u001b[0m \u001b[43m    \u001b[49m\u001b[38;5;28;43mself\u001b[39;49m\u001b[38;5;241;43m.\u001b[39;49m\u001b[43m_timeout\u001b[49m\u001b[43m,\u001b[49m\n\u001b[1;32m    354\u001b[0m \u001b[43m    \u001b[49m\u001b[43mon_error\u001b[49m\u001b[38;5;241;43m=\u001b[39;49m\u001b[43mon_error\u001b[49m\u001b[43m,\u001b[49m\n\u001b[1;32m    355\u001b[0m \u001b[43m\u001b[49m\u001b[43m)\u001b[49m\n",
      "File \u001b[0;32m~/miniconda3/lib/python3.9/site-packages/google/api_core/retry.py:191\u001b[0m, in \u001b[0;36mretry_target\u001b[0;34m(target, predicate, sleep_generator, timeout, on_error, **kwargs)\u001b[0m\n\u001b[1;32m    189\u001b[0m \u001b[38;5;28;01mfor\u001b[39;00m sleep \u001b[38;5;129;01min\u001b[39;00m sleep_generator:\n\u001b[1;32m    190\u001b[0m     \u001b[38;5;28;01mtry\u001b[39;00m:\n\u001b[0;32m--> 191\u001b[0m         \u001b[38;5;28;01mreturn\u001b[39;00m \u001b[43mtarget\u001b[49m\u001b[43m(\u001b[49m\u001b[43m)\u001b[49m\n\u001b[1;32m    193\u001b[0m     \u001b[38;5;66;03m# pylint: disable=broad-except\u001b[39;00m\n\u001b[1;32m    194\u001b[0m     \u001b[38;5;66;03m# This function explicitly must deal with broad exceptions.\u001b[39;00m\n\u001b[1;32m    195\u001b[0m     \u001b[38;5;28;01mexcept\u001b[39;00m \u001b[38;5;167;01mException\u001b[39;00m \u001b[38;5;28;01mas\u001b[39;00m exc:\n",
      "File \u001b[0;32m~/miniconda3/lib/python3.9/site-packages/google/cloud/bigquery/job/query.py:1489\u001b[0m, in \u001b[0;36mQueryJob.result.<locals>.do_get_result\u001b[0;34m()\u001b[0m\n\u001b[1;32m   1486\u001b[0m     \u001b[38;5;28mself\u001b[39m\u001b[38;5;241m.\u001b[39m_retry_do_query \u001b[38;5;241m=\u001b[39m retry_do_query\n\u001b[1;32m   1487\u001b[0m     \u001b[38;5;28mself\u001b[39m\u001b[38;5;241m.\u001b[39m_job_retry \u001b[38;5;241m=\u001b[39m job_retry\n\u001b[0;32m-> 1489\u001b[0m \u001b[38;5;28;43msuper\u001b[39;49m\u001b[43m(\u001b[49m\u001b[43mQueryJob\u001b[49m\u001b[43m,\u001b[49m\u001b[43m \u001b[49m\u001b[38;5;28;43mself\u001b[39;49m\u001b[43m)\u001b[49m\u001b[38;5;241;43m.\u001b[39;49m\u001b[43mresult\u001b[49m\u001b[43m(\u001b[49m\u001b[43mretry\u001b[49m\u001b[38;5;241;43m=\u001b[39;49m\u001b[43mretry\u001b[49m\u001b[43m,\u001b[49m\u001b[43m \u001b[49m\u001b[43mtimeout\u001b[49m\u001b[38;5;241;43m=\u001b[39;49m\u001b[43mtimeout\u001b[49m\u001b[43m)\u001b[49m\n\u001b[1;32m   1491\u001b[0m \u001b[38;5;66;03m# Since the job could already be \"done\" (e.g. got a finished job\u001b[39;00m\n\u001b[1;32m   1492\u001b[0m \u001b[38;5;66;03m# via client.get_job), the superclass call to done() might not\u001b[39;00m\n\u001b[1;32m   1493\u001b[0m \u001b[38;5;66;03m# set the self._query_results cache.\u001b[39;00m\n\u001b[1;32m   1494\u001b[0m \u001b[38;5;28mself\u001b[39m\u001b[38;5;241m.\u001b[39m_reload_query_results(retry\u001b[38;5;241m=\u001b[39mretry, timeout\u001b[38;5;241m=\u001b[39mtimeout)\n",
      "File \u001b[0;32m~/miniconda3/lib/python3.9/site-packages/google/cloud/bigquery/job/base.py:728\u001b[0m, in \u001b[0;36m_AsyncJob.result\u001b[0;34m(self, retry, timeout)\u001b[0m\n\u001b[1;32m    725\u001b[0m     \u001b[38;5;28mself\u001b[39m\u001b[38;5;241m.\u001b[39m_begin(retry\u001b[38;5;241m=\u001b[39mretry, timeout\u001b[38;5;241m=\u001b[39mtimeout)\n\u001b[1;32m    727\u001b[0m kwargs \u001b[38;5;241m=\u001b[39m {} \u001b[38;5;28;01mif\u001b[39;00m retry \u001b[38;5;129;01mis\u001b[39;00m DEFAULT_RETRY \u001b[38;5;28;01melse\u001b[39;00m {\u001b[38;5;124m\"\u001b[39m\u001b[38;5;124mretry\u001b[39m\u001b[38;5;124m\"\u001b[39m: retry}\n\u001b[0;32m--> 728\u001b[0m \u001b[38;5;28;01mreturn\u001b[39;00m \u001b[38;5;28;43msuper\u001b[39;49m\u001b[43m(\u001b[49m\u001b[43m_AsyncJob\u001b[49m\u001b[43m,\u001b[49m\u001b[43m \u001b[49m\u001b[38;5;28;43mself\u001b[39;49m\u001b[43m)\u001b[49m\u001b[38;5;241;43m.\u001b[39;49m\u001b[43mresult\u001b[49m\u001b[43m(\u001b[49m\u001b[43mtimeout\u001b[49m\u001b[38;5;241;43m=\u001b[39;49m\u001b[43mtimeout\u001b[49m\u001b[43m,\u001b[49m\u001b[43m \u001b[49m\u001b[38;5;241;43m*\u001b[39;49m\u001b[38;5;241;43m*\u001b[39;49m\u001b[43mkwargs\u001b[49m\u001b[43m)\u001b[49m\n",
      "File \u001b[0;32m~/miniconda3/lib/python3.9/site-packages/google/api_core/future/polling.py:261\u001b[0m, in \u001b[0;36mPollingFuture.result\u001b[0;34m(self, timeout, retry, polling)\u001b[0m\n\u001b[1;32m    256\u001b[0m \u001b[38;5;28mself\u001b[39m\u001b[38;5;241m.\u001b[39m_blocking_poll(timeout\u001b[38;5;241m=\u001b[39mtimeout, retry\u001b[38;5;241m=\u001b[39mretry, polling\u001b[38;5;241m=\u001b[39mpolling)\n\u001b[1;32m    258\u001b[0m \u001b[38;5;28;01mif\u001b[39;00m \u001b[38;5;28mself\u001b[39m\u001b[38;5;241m.\u001b[39m_exception \u001b[38;5;129;01mis\u001b[39;00m \u001b[38;5;129;01mnot\u001b[39;00m \u001b[38;5;28;01mNone\u001b[39;00m:\n\u001b[1;32m    259\u001b[0m     \u001b[38;5;66;03m# pylint: disable=raising-bad-type\u001b[39;00m\n\u001b[1;32m    260\u001b[0m     \u001b[38;5;66;03m# Pylint doesn't recognize that this is valid in this case.\u001b[39;00m\n\u001b[0;32m--> 261\u001b[0m     \u001b[38;5;28;01mraise\u001b[39;00m \u001b[38;5;28mself\u001b[39m\u001b[38;5;241m.\u001b[39m_exception\n\u001b[1;32m    263\u001b[0m \u001b[38;5;28;01mreturn\u001b[39;00m \u001b[38;5;28mself\u001b[39m\u001b[38;5;241m.\u001b[39m_result\n",
      "\u001b[0;31mBadRequest\u001b[0m: 400 Query exceeded resource limits. This query used 9789 CPU seconds but would charge only 20M Analysis bytes. This exceeds the ratio supported by the on-demand pricing model. Please consider moving this workload to the flat-rate reservation pricing model, which does not have this limit. 9789 CPU seconds were used, and this query must use less than 5100 CPU seconds.\n\nLocation: US\nJob ID: 1e8d8cc1-01ce-407e-8abb-b44c8f30b5c0\n"
     ]
    }
   ],
   "source": [
    "_ranges = client.query('''\n",
    "  select \n",
    "    mode, \n",
    "    _range,\n",
    "    st_intersection(r.geom, st_boundary(i.geom)) as geom\n",
    "  from `cartodb-gcp-solutions-eng-team.accesibility.valencia_roads` r\n",
    "  join`cartodb-gcp-solutions-eng-team.accesibility.isolines` i\n",
    "  on st_intersects(r.geom, i.geom)\n",
    "  where not st_isempty(st_intersection(r.geom, st_boundary(i.geom)))\n",
    "  and (\n",
    "    (mode='driving' and _range <= 40*60 ) or\n",
    "    (mode = 'cycling' and _range <=45*60) or\n",
    "    (mode='public_transport' and _range <= 60*60)\n",
    "  )\n",
    "  -- and _range < 10 * 60\n",
    "  -- group by mode, _range\n",
    "''').to_geodataframe()"
   ]
  },
  {
   "cell_type": "code",
   "execution_count": 48,
   "id": "dd59e7d5",
   "metadata": {},
   "outputs": [
    {
     "data": {
      "text/html": [
       "<div>\n",
       "<style scoped>\n",
       "    .dataframe tbody tr th:only-of-type {\n",
       "        vertical-align: middle;\n",
       "    }\n",
       "\n",
       "    .dataframe tbody tr th {\n",
       "        vertical-align: top;\n",
       "    }\n",
       "\n",
       "    .dataframe thead th {\n",
       "        text-align: right;\n",
       "    }\n",
       "</style>\n",
       "<table border=\"1\" class=\"dataframe\">\n",
       "  <thead>\n",
       "    <tr style=\"text-align: right;\">\n",
       "      <th></th>\n",
       "      <th>mode</th>\n",
       "      <th>_range</th>\n",
       "      <th>geom</th>\n",
       "    </tr>\n",
       "  </thead>\n",
       "  <tbody>\n",
       "    <tr>\n",
       "      <th>0</th>\n",
       "      <td>cycling</td>\n",
       "      <td>420</td>\n",
       "      <td>POINT (-0.37412 39.45766)</td>\n",
       "    </tr>\n",
       "    <tr>\n",
       "      <th>1</th>\n",
       "      <td>cycling</td>\n",
       "      <td>300</td>\n",
       "      <td>POINT (-0.39127 39.46864)</td>\n",
       "    </tr>\n",
       "    <tr>\n",
       "      <th>2</th>\n",
       "      <td>driving</td>\n",
       "      <td>540</td>\n",
       "      <td>POINT (-0.39055 39.45908)</td>\n",
       "    </tr>\n",
       "    <tr>\n",
       "      <th>3</th>\n",
       "      <td>cycling</td>\n",
       "      <td>360</td>\n",
       "      <td>POINT (-0.37064 39.46530)</td>\n",
       "    </tr>\n",
       "    <tr>\n",
       "      <th>4</th>\n",
       "      <td>driving</td>\n",
       "      <td>480</td>\n",
       "      <td>POINT (-0.37056 39.46518)</td>\n",
       "    </tr>\n",
       "    <tr>\n",
       "      <th>...</th>\n",
       "      <td>...</td>\n",
       "      <td>...</td>\n",
       "      <td>...</td>\n",
       "    </tr>\n",
       "    <tr>\n",
       "      <th>1752</th>\n",
       "      <td>driving</td>\n",
       "      <td>480</td>\n",
       "      <td>POINT (-0.37646 39.46924)</td>\n",
       "    </tr>\n",
       "    <tr>\n",
       "      <th>1753</th>\n",
       "      <td>public_transport</td>\n",
       "      <td>360</td>\n",
       "      <td>POINT (-0.37649 39.46924)</td>\n",
       "    </tr>\n",
       "    <tr>\n",
       "      <th>1754</th>\n",
       "      <td>driving</td>\n",
       "      <td>420</td>\n",
       "      <td>POINT (-0.37648 39.46924)</td>\n",
       "    </tr>\n",
       "    <tr>\n",
       "      <th>1755</th>\n",
       "      <td>driving</td>\n",
       "      <td>540</td>\n",
       "      <td>POINT (-0.38479 39.45970)</td>\n",
       "    </tr>\n",
       "    <tr>\n",
       "      <th>1756</th>\n",
       "      <td>driving</td>\n",
       "      <td>360</td>\n",
       "      <td>POINT (-0.39275 39.47057)</td>\n",
       "    </tr>\n",
       "  </tbody>\n",
       "</table>\n",
       "<p>1757 rows × 3 columns</p>\n",
       "</div>"
      ],
      "text/plain": [
       "                  mode  _range                       geom\n",
       "0              cycling     420  POINT (-0.37412 39.45766)\n",
       "1              cycling     300  POINT (-0.39127 39.46864)\n",
       "2              driving     540  POINT (-0.39055 39.45908)\n",
       "3              cycling     360  POINT (-0.37064 39.46530)\n",
       "4              driving     480  POINT (-0.37056 39.46518)\n",
       "...                ...     ...                        ...\n",
       "1752           driving     480  POINT (-0.37646 39.46924)\n",
       "1753  public_transport     360  POINT (-0.37649 39.46924)\n",
       "1754           driving     420  POINT (-0.37648 39.46924)\n",
       "1755           driving     540  POINT (-0.38479 39.45970)\n",
       "1756           driving     360  POINT (-0.39275 39.47057)\n",
       "\n",
       "[1757 rows x 3 columns]"
      ]
     },
     "execution_count": 48,
     "metadata": {},
     "output_type": "execute_result"
    }
   ],
   "source": [
    "_ranges"
   ]
  },
  {
   "cell_type": "code",
   "execution_count": null,
   "id": "45905434",
   "metadata": {},
   "outputs": [],
   "source": [
    "unary_points = []\n",
    "for mode in _ranges['mode'].unique():\n",
    "    for _range in sorted(_ranges[_ranges['mode']==mode]._range.unique()):\n",
    "        unary_points.append({\n",
    "            'mode': mode,\n",
    "            '_range': _range,\n",
    "            'geom': _ranges[(_ranges['mode']==mode ) & _ranges._range <= _range].unary_union\n",
    "        })"
   ]
  },
  {
   "cell_type": "code",
   "execution_count": null,
   "id": "986006b1",
   "metadata": {},
   "outputs": [],
   "source": [
    "unary_points_df = pd.DataFrame(unary_points)\n",
    "unary_points_df_pivot = unary_points_df.pivot(columns='mode', values='geom', index='_range').reset_index()\n",
    "unary_points_df_pivot['datetime'] = unary_points_df_pivot._range.apply(\n",
    "    lambda r: pd.to_datetime('2023-06-15T12:00:00Z') + datetime.timedelta(seconds=r)\n",
    ")\n",
    "unary_points_df_pivot.rename(columns={'driving': 'geom'}).to_gbq(\n",
    "    destination_table='accesibility.cycling_with_timestamp',\n",
    "    project_id='cartodb-gcp-solutions-eng-team',\n",
    "    if_exists='replace',\n",
    "    table_schema=[\n",
    "        {'name': 'geom', 'type': 'GEOGRAPHY'},\n",
    "        {'name': 'cycling', 'type': 'GEOGRAPHY'},\n",
    "        {'name': 'public_transport', 'type': 'GEOGRAPHY'}\n",
    "    ]\n",
    ")"
   ]
  }
 ],
 "metadata": {
  "kernelspec": {
   "display_name": "Python 3 (ipykernel)",
   "language": "python",
   "name": "python3"
  },
  "language_info": {
   "codemirror_mode": {
    "name": "ipython",
    "version": 3
   },
   "file_extension": ".py",
   "mimetype": "text/x-python",
   "name": "python",
   "nbconvert_exporter": "python",
   "pygments_lexer": "ipython3",
   "version": "3.9.13"
  },
  "toc": {
   "base_numbering": 1,
   "nav_menu": {},
   "number_sections": true,
   "sideBar": true,
   "skip_h1_title": false,
   "title_cell": "Table of Contents",
   "title_sidebar": "Contents",
   "toc_cell": false,
   "toc_position": {},
   "toc_section_display": true,
   "toc_window_display": false
  }
 },
 "nbformat": 4,
 "nbformat_minor": 5
}
